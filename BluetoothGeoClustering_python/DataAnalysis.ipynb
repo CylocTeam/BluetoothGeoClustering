{
 "cells": [
  {
   "cell_type": "code",
   "execution_count": 2,
   "metadata": {},
   "outputs": [],
   "source": [
    "import numpy as np\n",
    "from matplotlib import pyplot as plt\n",
    "import pandas as pd\n",
    "import seaborn as sns\n",
    "from DataFuncs import DataFuncs\n",
    "sns.set(style=\"darkgrid\", rc={'figure.figsize':(15,10)})"
   ]
  },
  {
   "cell_type": "markdown",
   "metadata": {},
   "source": [
    "# Enable interactive notebook"
   ]
  },
  {
   "cell_type": "code",
   "execution_count": null,
   "metadata": {},
   "outputs": [],
   "source": [
    "%matplotlib notebook"
   ]
  },
  {
   "cell_type": "markdown",
   "metadata": {},
   "source": [
    "# Main"
   ]
  },
  {
   "cell_type": "markdown",
   "metadata": {},
   "source": [
    "\n",
    "Load Experiment data. "
   ]
  },
  {
   "cell_type": "code",
   "execution_count": null,
   "metadata": {},
   "outputs": [],
   "source": [
    "DataFuncsObj = DataFuncs()\n",
    "all_tag_measurements = pd.read_pickle(r'tag_measurements_2020_03_28.pkl')\n",
    "all_tag_measurements = all_tag_measurements.dropna(how='any').reset_index(drop=True)"
   ]
  },
  {
   "cell_type": "markdown",
   "metadata": {},
   "source": [
    "Choose obstacle to show"
   ]
  },
  {
   "cell_type": "code",
   "execution_count": null,
   "metadata": {
    "scrolled": true
   },
   "outputs": [],
   "source": [
    "pd.unique(all_tag_measurements.obstacle)"
   ]
  },
  {
   "cell_type": "code",
   "execution_count": null,
   "metadata": {
    "scrolled": true
   },
   "outputs": [],
   "source": [
    "obstacle = 'No Obstacle'\n",
    "\n",
    "show_measurements = all_tag_measurements.where(all_tag_measurements.obstacle == obstacle)\n",
    "show_measurements = show_measurements.dropna(how='any').reset_index(drop=True)\n",
    "\n",
    "ax = sns.boxplot(x=np.round(show_measurements[\"distance\"]*4)/4, y=show_measurements[\"rssi\"], hue =show_measurements[\"DisplayName\"] ).set_title(obstacle + \" - All setups\")"
   ]
  },
  {
   "cell_type": "code",
   "execution_count": null,
   "metadata": {},
   "outputs": [],
   "source": [
    "# ax = sns.violinplot(x=\"distance\", y=\"rssi\", data=show_measurements)\n",
    "ax = sns.boxplot(x=np.round(show_measurements[\"distance\"]*4)/4, y=show_measurements[\"rssi\"] ).set_title(obstacle + \" - All setups\")"
   ]
  },
  {
   "cell_type": "code",
   "execution_count": null,
   "metadata": {},
   "outputs": [],
   "source": [
    "pd.unique(show_measurements.setup)"
   ]
  },
  {
   "cell_type": "code",
   "execution_count": null,
   "metadata": {
    "scrolled": true
   },
   "outputs": [],
   "source": [
    "for setup in pd.unique(show_measurements.setup):\n",
    "    setup_measurements = show_measurements.where(show_measurements.setup == setup)\n",
    "    title_str = str(obstacle) + \" - \" + str(setup)\n",
    "    plt.figure()\n",
    "#     color by display name\n",
    "#     sns.boxplot(x=np.round(setup_measurements[\"distance\"]*4)/4, y=setup_measurements[\"rssi\"], hue =setup_measurements[\"DisplayName\"]) .set_title(title_str)\n",
    "#     all devices united\n",
    "    sns.boxplot(x=np.round(setup_measurements[\"distance\"]*4)/4, y=setup_measurements[\"rssi\"]) .set_title(title_str)\n",
    "    plt.show()"
   ]
  },
  {
   "cell_type": "markdown",
   "metadata": {},
   "source": [
    "# Are the two devices in the same room?\n"
   ]
  },
  {
   "cell_type": "code",
   "execution_count": null,
   "metadata": {},
   "outputs": [],
   "source": [
    "measurements_same_room = all_tag_measurements.where(all_tag_measurements.obstacle == 'No Obstacle')\n",
    "measurements_same_room = measurements_same_room.dropna(how='any').reset_index(drop=True)\n",
    "\n",
    "measurements_other_room = all_tag_measurements.where(all_tag_measurements.obstacle == 'Obstacle: wall')\n",
    "measurements_other_room = measurements_other_room.dropna(how='any').reset_index(drop=True)\n",
    "\n",
    "sns.boxplot(x=all_tag_measurements[\"obstacle\"], y=all_tag_measurements[\"rssi\"], hue =all_tag_measurements[\"DisplayName\"]).set_title('All distances')"
   ]
  },
  {
   "cell_type": "markdown",
   "metadata": {},
   "source": [
    "# Plot window data"
   ]
  },
  {
   "cell_type": "code",
   "execution_count": null,
   "metadata": {},
   "outputs": [],
   "source": [
    "win_size_seconds = 60"
   ]
  },
  {
   "cell_type": "markdown",
   "metadata": {},
   "source": [
    "Plot move mean"
   ]
  },
  {
   "cell_type": "code",
   "execution_count": null,
   "metadata": {},
   "outputs": [],
   "source": [
    "# all_tag_rolling = DataFuncsObj.run_rolling_func_df(all_tag_measurements, 'mean', 'DisplayName', 'rssi', win_size_seconds)\n",
    "all_tag_rolling = DataFuncsObj.run_rolling_func_df_2_columns(all_tag_measurements, 'mean', 'DisplayName','distance', 'rssi', win_size_seconds)\n",
    "obstacle = 'No Obstacle'\n",
    "show_measurements = all_tag_rolling.where(all_tag_rolling.obstacle == obstacle)\n",
    "show_measurements = show_measurements.dropna(how='any').reset_index(drop=True)"
   ]
  },
  {
   "cell_type": "code",
   "execution_count": null,
   "metadata": {
    "scrolled": true
   },
   "outputs": [],
   "source": [
    "plt.figure()\n",
    "ax = sns.boxplot(x=np.round(show_measurements[\"distance\"]*4)/4, y=show_measurements[\"mean_rssi\"], hue =show_measurements[\"DisplayName\"] ).set_title(obstacle + \" mean - All setups\")\n",
    "# ax.figure.savefig(\"mean_rssi.png\")"
   ]
  },
  {
   "cell_type": "code",
   "execution_count": null,
   "metadata": {
    "scrolled": true
   },
   "outputs": [],
   "source": [
    "# Plot violinplot to show distribution\n",
    "plt.figure()\n",
    "ax = sns.violinplot(x=np.round(show_measurements[\"distance\"]*4)/4, y=show_measurements[\"mean_rssi\"] ).set_title(obstacle + \" mean rssi - All setups\")\n",
    "ax.figure.savefig(\"mean_rssi_violinplot.png\")"
   ]
  },
  {
   "cell_type": "markdown",
   "metadata": {},
   "source": [
    "Plot move variance"
   ]
  },
  {
   "cell_type": "code",
   "execution_count": null,
   "metadata": {},
   "outputs": [],
   "source": [
    "# all_tag_rolling = DataFuncsObj.run_rolling_func_df(all_tag_measurements, 'var', 'DisplayName', 'rssi', win_size_seconds)\n",
    "all_tag_rolling = DataFuncsObj.run_rolling_func_df_2_columns(all_tag_measurements, 'var', 'DisplayName','distance' ,'rssi', win_size_seconds)\n",
    "\n",
    "obstacle = 'No Obstacle'\n",
    "show_measurements = all_tag_rolling.where(all_tag_rolling.obstacle == obstacle)\n",
    "show_measurements = show_measurements.dropna(how='any').reset_index(drop=True)   "
   ]
  },
  {
   "cell_type": "code",
   "execution_count": null,
   "metadata": {
    "scrolled": true
   },
   "outputs": [],
   "source": [
    "plt.figure()\n",
    "ax = sns.boxplot(x=np.round(show_measurements[\"distance\"]*4)/4, y=show_measurements[\"var_rssi\"], hue =show_measurements[\"DisplayName\"] ).set_title(obstacle + \" var - All setups\")\n",
    "# ax.figure.savefig(\"var_rssi.png\")"
   ]
  },
  {
   "cell_type": "markdown",
   "metadata": {},
   "source": [
    "Plot counts"
   ]
  },
  {
   "cell_type": "code",
   "execution_count": null,
   "metadata": {},
   "outputs": [],
   "source": [
    "# all_tag_rolling = DataFuncsObj.run_rolling_func_df(all_tag_measurements, 'count', 'DisplayName', 'rssi', win_size_seconds)\n",
    "all_tag_rolling = DataFuncsObj.run_rolling_func_df_2_columns(all_tag_measurements, 'count', 'DisplayName','distance' ,'rssi', win_size_seconds)\n",
    "obstacle = 'No Obstacle'\n",
    "show_measurements = all_tag_rolling.where(all_tag_rolling.obstacle == obstacle)\n",
    "show_measurements = show_measurements.dropna(how='any').reset_index(drop=True)   "
   ]
  },
  {
   "cell_type": "code",
   "execution_count": null,
   "metadata": {
    "scrolled": true
   },
   "outputs": [],
   "source": [
    "plt.figure()\n",
    "ax = sns.boxplot(x=np.round(show_measurements[\"distance\"]*4)/4, y=show_measurements[\"count_rssi\"], hue =show_measurements[\"DisplayName\"] ).set_title(obstacle + \" counts - All setups\")\n",
    "# ax.figure.savefig(\"count_rssi.png\")"
   ]
  },
  {
   "cell_type": "code",
   "execution_count": null,
   "metadata": {
    "scrolled": true
   },
   "outputs": [],
   "source": [
    "# plot violinplot to show semi distribution\n",
    "plt.figure()\n",
    "ax = sns.violinplot(x=np.round(show_measurements[\"distance\"]*4)/4, y=show_measurements[\"count_rssi\"] ).set_title(obstacle + \" counts - All setups\")\n",
    "ax.figure.savefig(\"count_rssi_violinplot.png\")"
   ]
  },
  {
   "cell_type": "markdown",
   "metadata": {},
   "source": [
    "Plot wanted percentile "
   ]
  },
  {
   "cell_type": "code",
   "execution_count": null,
   "metadata": {},
   "outputs": [],
   "source": [
    "wanted_percentile = 90\n",
    "DataFuncsObj.set_percent(wanted_percentile)\n",
    "\n",
    "all_tag_rolling = DataFuncsObj.run_rolling_func_df_2_columns(all_tag_measurements, 'percentile', 'DisplayName','distance' ,'rssi', win_size_seconds)\n",
    "obstacle = 'No Obstacle'\n",
    "show_measurements = all_tag_rolling.where(all_tag_rolling.obstacle == obstacle)\n",
    "show_measurements = show_measurements.dropna(how='any').reset_index(drop=True)   "
   ]
  },
  {
   "cell_type": "code",
   "execution_count": null,
   "metadata": {
    "scrolled": true
   },
   "outputs": [],
   "source": [
    "plt.figure()\n",
    "ax = sns.boxplot(x=np.round(show_measurements[\"distance\"]*4)/4, y=show_measurements[\"percentile_rssi\"], hue =show_measurements[\"DisplayName\"] ).set_title(obstacle + \" percentile - All setups\")\n",
    "# ax.figure.savefig(\"percentile_80_rssi.png\")"
   ]
  },
  {
   "cell_type": "code",
   "execution_count": null,
   "metadata": {
    "scrolled": true
   },
   "outputs": [],
   "source": [
    "# plot violinplot to show semi distribution\n",
    "plt.figure()\n",
    "ax = sns.violinplot(x=np.round(show_measurements[\"distance\"]*4)/4, y=show_measurements[\"percentile_rssi\"] ).set_title(obstacle + \" percentile - All setups\")\n",
    "ax.figure.savefig(\"percentile_90_rssi_violinplot.png\")"
   ]
  },
  {
   "cell_type": "code",
   "execution_count": null,
   "metadata": {},
   "outputs": [],
   "source": []
  },
  {
   "cell_type": "code",
   "execution_count": null,
   "metadata": {},
   "outputs": [],
   "source": []
  },
  {
   "cell_type": "code",
   "execution_count": null,
   "metadata": {},
   "outputs": [],
   "source": []
  }
 ],
 "metadata": {
  "kernelspec": {
   "display_name": "Python 3",
   "language": "python",
   "name": "python3"
  },
  "language_info": {
   "codemirror_mode": {
    "name": "ipython",
    "version": 3
   },
   "file_extension": ".py",
   "mimetype": "text/x-python",
   "name": "python",
   "nbconvert_exporter": "python",
   "pygments_lexer": "ipython3",
   "version": "3.6.8"
  }
 },
 "nbformat": 4,
 "nbformat_minor": 2
}
