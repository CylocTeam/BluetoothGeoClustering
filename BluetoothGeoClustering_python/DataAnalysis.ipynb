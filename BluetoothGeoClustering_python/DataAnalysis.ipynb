{
 "cells": [
  {
   "cell_type": "code",
   "execution_count": 2,
   "metadata": {},
   "outputs": [],
   "source": [
    "import numpy as np\n",
    "from matplotlib import pyplot as plt\n",
    "import pandas as pd\n",
    "import seaborn as sns\n",
    "from DataFuncs import DataFuncs\n",
    "from PlotFunctions import PlotFuncs\n",
    "sns.set(style=\"darkgrid\", rc={'figure.figsize':(15,10)})"
   ]
  },
  {
   "cell_type": "markdown",
   "metadata": {},
   "source": [
    "# Enable interactive notebook"
   ]
  },
  {
   "cell_type": "code",
   "execution_count": null,
   "metadata": {},
   "outputs": [],
   "source": [
    "%matplotlib notebook"
   ]
  },
  {
   "cell_type": "markdown",
   "metadata": {},
   "source": [
    "# Main"
   ]
  },
  {
   "cell_type": "markdown",
   "metadata": {},
   "source": [
    "\n",
    "Load Experiment data. "
   ]
  },
  {
   "cell_type": "code",
   "execution_count": 3,
   "metadata": {},
   "outputs": [],
   "source": [
    "DataFuncsObj = DataFuncs()\n",
    "all_tag_measurements = pd.read_pickle(r'tag_measurements_2020_03_28.pkl')\n",
    "all_tag_measurements = all_tag_measurements.dropna(how='any').reset_index(drop=True)"
   ]
  },
  {
   "cell_type": "markdown",
   "metadata": {},
   "source": [
    "# Plots without windowing"
   ]
  },
  {
   "cell_type": "code",
   "execution_count": null,
   "metadata": {
    "scrolled": true
   },
   "outputs": [],
   "source": [
    "# pd.unique(all_tag_measurements.obstacle)\n",
    "obstacle = 'No Obstacle'\n",
    "show_measurements = all_tag_measurements.where(all_tag_measurements.obstacle == obstacle)\n",
    "show_measurements = show_measurements.dropna(how='any').reset_index(drop=True)"
   ]
  },
  {
   "cell_type": "code",
   "execution_count": null,
   "metadata": {},
   "outputs": [],
   "source": [
    "plt.figure()\n",
    "ax = sns.boxplot(x=np.round(show_measurements[\"distance\"]*4)/4, y=show_measurements[\"rssi\"], hue =show_measurements[\"DisplayName\"] ).set_title(obstacle + \" - All setups\")\n",
    "# plt.figure()\n",
    "# ax = sns.boxplot(x=np.round(show_measurements[\"distance\"]*4)/4, y=show_measurements[\"rssi\"] ).set_title(obstacle + \" - All setups\")"
   ]
  },
  {
   "cell_type": "markdown",
   "metadata": {},
   "source": [
    "boxolot for each setup"
   ]
  },
  {
   "cell_type": "code",
   "execution_count": null,
   "metadata": {
    "scrolled": true
   },
   "outputs": [],
   "source": [
    "# pd.unique(show_measurements.setup)\n",
    "for setup in pd.unique(show_measurements.setup):\n",
    "    setup_measurements = show_measurements.where(show_measurements.setup == setup)\n",
    "    title_str = str(obstacle) + \" - \" + str(setup)\n",
    "    plt.figure()\n",
    "#     color by display name\n",
    "#     sns.boxplot(x=np.round(setup_measurements[\"distance\"]*4)/4, y=setup_measurements[\"rssi\"], hue =setup_measurements[\"DisplayName\"]) .set_title(title_str)\n",
    "#     all devices united\n",
    "    sns.boxplot(x=np.round(setup_measurements[\"distance\"]*4)/4, y=setup_measurements[\"rssi\"]) .set_title(title_str)\n",
    "    plt.show()"
   ]
  },
  {
   "cell_type": "markdown",
   "metadata": {},
   "source": [
    "# Plot window data"
   ]
  },
  {
   "cell_type": "code",
   "execution_count": 4,
   "metadata": {},
   "outputs": [],
   "source": [
    "win_size_seconds = 60"
   ]
  },
  {
   "cell_type": "markdown",
   "metadata": {},
   "source": [
    "Choose data to plot"
   ]
  },
  {
   "cell_type": "code",
   "execution_count": null,
   "metadata": {},
   "outputs": [],
   "source": [
    "# choose all data\n",
    "plot_tag_data = all_tag_measurements"
   ]
  },
  {
   "cell_type": "code",
   "execution_count": null,
   "metadata": {},
   "outputs": [],
   "source": [
    "# exclude specific display names\n",
    "plot_tag_data = DataFuncsObj.exclude_display_name_from_df(all_tag_measurements,'GalaxyNote4_AZer')"
   ]
  },
  {
   "cell_type": "code",
   "execution_count": 7,
   "metadata": {},
   "outputs": [],
   "source": [
    "#normalized data \n",
    "norm_distance = 1 #m\n",
    "setup = 'Phone in hand'\n",
    "plot_tag_data = DataFuncsObj.normalize_by_distance(all_tag_measurements,norm_distance, setup )"
   ]
  },
  {
   "cell_type": "code",
   "execution_count": 8,
   "metadata": {},
   "outputs": [],
   "source": [
    "PlotFuncsObj = PlotFuncs(plot_tag_data, win_size_seconds)"
   ]
  },
  {
   "cell_type": "markdown",
   "metadata": {},
   "source": [
    "Plot move mean"
   ]
  },
  {
   "cell_type": "code",
   "execution_count": 9,
   "metadata": {
    "scrolled": true
   },
   "outputs": [
    {
     "ename": "ValueError",
     "evalue": "'DisplayName' is both an index level and a column label, which is ambiguous.",
     "output_type": "error",
     "traceback": [
      "\u001b[1;31m---------------------------------------------------------------------------\u001b[0m",
      "\u001b[1;31mValueError\u001b[0m                                Traceback (most recent call last)",
      "\u001b[1;32m<ipython-input-9-9fd8fd76d428>\u001b[0m in \u001b[0;36m<module>\u001b[1;34m\u001b[0m\n\u001b[1;32m----> 1\u001b[1;33m \u001b[0mPlotFuncsObj\u001b[0m\u001b[1;33m.\u001b[0m\u001b[0mplot_data\u001b[0m\u001b[1;33m(\u001b[0m \u001b[1;34m'mean'\u001b[0m\u001b[1;33m,\u001b[0m \u001b[0mplot_func\u001b[0m\u001b[1;33m=\u001b[0m\u001b[1;34m'boxplot'\u001b[0m\u001b[1;33m,\u001b[0m\u001b[0mobstacle\u001b[0m\u001b[1;33m=\u001b[0m\u001b[1;34m'No Obstacle'\u001b[0m\u001b[1;33m,\u001b[0m \u001b[0mplot_hue\u001b[0m\u001b[1;33m=\u001b[0m\u001b[1;36m1\u001b[0m\u001b[1;33m)\u001b[0m\u001b[1;33m\u001b[0m\u001b[1;33m\u001b[0m\u001b[0m\n\u001b[0m",
      "\u001b[1;32mD:\\Documents\\Projects\\Bluetooth\\BluetoothGeoClustering\\BluetoothGeoClustering_python\\PlotFunctions.py\u001b[0m in \u001b[0;36mplot_data\u001b[1;34m(self, func, plot_func, obstacle, plot_hue, percent, margin)\u001b[0m\n\u001b[0;32m     36\u001b[0m         \u001b[0mDataFuncsObj\u001b[0m\u001b[1;33m.\u001b[0m\u001b[0mset_margin\u001b[0m\u001b[1;33m(\u001b[0m\u001b[0mmargin\u001b[0m\u001b[1;33m)\u001b[0m\u001b[1;33m\u001b[0m\u001b[1;33m\u001b[0m\u001b[0m\n\u001b[0;32m     37\u001b[0m         tag_rolling = DataFuncsObj.run_rolling_func_df_2_columns(self.tag_measurements, func, 'DisplayName',\n\u001b[1;32m---> 38\u001b[1;33m                                                                  'distance', 'rssi', self.win_size_seconds)\n\u001b[0m\u001b[0;32m     39\u001b[0m         \u001b[0mshow_measurements\u001b[0m \u001b[1;33m=\u001b[0m \u001b[0mtag_rolling\u001b[0m\u001b[1;33m.\u001b[0m\u001b[0mwhere\u001b[0m\u001b[1;33m(\u001b[0m\u001b[0mtag_rolling\u001b[0m\u001b[1;33m.\u001b[0m\u001b[0mobstacle\u001b[0m \u001b[1;33m==\u001b[0m \u001b[0mobstacle\u001b[0m\u001b[1;33m)\u001b[0m\u001b[1;33m\u001b[0m\u001b[1;33m\u001b[0m\u001b[0m\n\u001b[0;32m     40\u001b[0m         \u001b[0mshow_measurements\u001b[0m \u001b[1;33m=\u001b[0m \u001b[0mshow_measurements\u001b[0m\u001b[1;33m.\u001b[0m\u001b[0mdropna\u001b[0m\u001b[1;33m(\u001b[0m\u001b[0mhow\u001b[0m\u001b[1;33m=\u001b[0m\u001b[1;34m'any'\u001b[0m\u001b[1;33m)\u001b[0m\u001b[1;33m.\u001b[0m\u001b[0mreset_index\u001b[0m\u001b[1;33m(\u001b[0m\u001b[0mdrop\u001b[0m\u001b[1;33m=\u001b[0m\u001b[1;32mTrue\u001b[0m\u001b[1;33m)\u001b[0m\u001b[1;33m\u001b[0m\u001b[1;33m\u001b[0m\u001b[0m\n",
      "\u001b[1;32mD:\\Documents\\Projects\\Bluetooth\\BluetoothGeoClustering\\BluetoothGeoClustering_python\\DataFuncs.py\u001b[0m in \u001b[0;36mrun_rolling_func_df_2_columns\u001b[1;34m(self, df, func, column_name_group_first, column_name_group_second, column_name_func, win_size_seconds)\u001b[0m\n\u001b[0;32m     76\u001b[0m                                       column_name_func, win_size_seconds):\n\u001b[0;32m     77\u001b[0m         \u001b[1;31m# needed to group by distance and display name so the results from one distance influence other distance\u001b[0m\u001b[1;33m\u001b[0m\u001b[1;33m\u001b[0m\u001b[1;33m\u001b[0m\u001b[0m\n\u001b[1;32m---> 78\u001b[1;33m         \u001b[0mdf_grouped\u001b[0m \u001b[1;33m=\u001b[0m \u001b[0mdf\u001b[0m\u001b[1;33m.\u001b[0m\u001b[0mgroupby\u001b[0m\u001b[1;33m(\u001b[0m\u001b[1;33m[\u001b[0m\u001b[0mcolumn_name_group_first\u001b[0m\u001b[1;33m,\u001b[0m \u001b[0mcolumn_name_group_second\u001b[0m\u001b[1;33m]\u001b[0m\u001b[1;33m)\u001b[0m\u001b[1;33m\u001b[0m\u001b[1;33m\u001b[0m\u001b[0m\n\u001b[0m\u001b[0;32m     79\u001b[0m         df_rolling = df_grouped.apply(lambda x:\n\u001b[0;32m     80\u001b[0m                                       self.apply_and_add_rolling_func_to_df(x, func, column_name_func,\n",
      "\u001b[1;32mC:\\Anaconda3\\lib\\site-packages\\pandas\\core\\frame.py\u001b[0m in \u001b[0;36mgroupby\u001b[1;34m(self, by, axis, level, as_index, sort, group_keys, squeeze, observed)\u001b[0m\n\u001b[0;32m   5808\u001b[0m             \u001b[0mgroup_keys\u001b[0m\u001b[1;33m=\u001b[0m\u001b[0mgroup_keys\u001b[0m\u001b[1;33m,\u001b[0m\u001b[1;33m\u001b[0m\u001b[1;33m\u001b[0m\u001b[0m\n\u001b[0;32m   5809\u001b[0m             \u001b[0msqueeze\u001b[0m\u001b[1;33m=\u001b[0m\u001b[0msqueeze\u001b[0m\u001b[1;33m,\u001b[0m\u001b[1;33m\u001b[0m\u001b[1;33m\u001b[0m\u001b[0m\n\u001b[1;32m-> 5810\u001b[1;33m             \u001b[0mobserved\u001b[0m\u001b[1;33m=\u001b[0m\u001b[0mobserved\u001b[0m\u001b[1;33m,\u001b[0m\u001b[1;33m\u001b[0m\u001b[1;33m\u001b[0m\u001b[0m\n\u001b[0m\u001b[0;32m   5811\u001b[0m         )\n\u001b[0;32m   5812\u001b[0m \u001b[1;33m\u001b[0m\u001b[0m\n",
      "\u001b[1;32mC:\\Anaconda3\\lib\\site-packages\\pandas\\core\\groupby\\groupby.py\u001b[0m in \u001b[0;36m__init__\u001b[1;34m(self, obj, keys, axis, level, grouper, exclusions, selection, as_index, sort, group_keys, squeeze, observed, mutated)\u001b[0m\n\u001b[0;32m    407\u001b[0m                 \u001b[0msort\u001b[0m\u001b[1;33m=\u001b[0m\u001b[0msort\u001b[0m\u001b[1;33m,\u001b[0m\u001b[1;33m\u001b[0m\u001b[1;33m\u001b[0m\u001b[0m\n\u001b[0;32m    408\u001b[0m                 \u001b[0mobserved\u001b[0m\u001b[1;33m=\u001b[0m\u001b[0mobserved\u001b[0m\u001b[1;33m,\u001b[0m\u001b[1;33m\u001b[0m\u001b[1;33m\u001b[0m\u001b[0m\n\u001b[1;32m--> 409\u001b[1;33m                 \u001b[0mmutated\u001b[0m\u001b[1;33m=\u001b[0m\u001b[0mself\u001b[0m\u001b[1;33m.\u001b[0m\u001b[0mmutated\u001b[0m\u001b[1;33m,\u001b[0m\u001b[1;33m\u001b[0m\u001b[1;33m\u001b[0m\u001b[0m\n\u001b[0m\u001b[0;32m    410\u001b[0m             )\n\u001b[0;32m    411\u001b[0m \u001b[1;33m\u001b[0m\u001b[0m\n",
      "\u001b[1;32mC:\\Anaconda3\\lib\\site-packages\\pandas\\core\\groupby\\grouper.py\u001b[0m in \u001b[0;36mget_grouper\u001b[1;34m(obj, key, axis, level, sort, observed, mutated, validate)\u001b[0m\n\u001b[0;32m    590\u001b[0m             \u001b[1;32mif\u001b[0m \u001b[0mgpr\u001b[0m \u001b[1;32min\u001b[0m \u001b[0mobj\u001b[0m\u001b[1;33m:\u001b[0m\u001b[1;33m\u001b[0m\u001b[1;33m\u001b[0m\u001b[0m\n\u001b[0;32m    591\u001b[0m                 \u001b[1;32mif\u001b[0m \u001b[0mvalidate\u001b[0m\u001b[1;33m:\u001b[0m\u001b[1;33m\u001b[0m\u001b[1;33m\u001b[0m\u001b[0m\n\u001b[1;32m--> 592\u001b[1;33m                     \u001b[0mobj\u001b[0m\u001b[1;33m.\u001b[0m\u001b[0m_check_label_or_level_ambiguity\u001b[0m\u001b[1;33m(\u001b[0m\u001b[0mgpr\u001b[0m\u001b[1;33m,\u001b[0m \u001b[0maxis\u001b[0m\u001b[1;33m=\u001b[0m\u001b[0maxis\u001b[0m\u001b[1;33m)\u001b[0m\u001b[1;33m\u001b[0m\u001b[1;33m\u001b[0m\u001b[0m\n\u001b[0m\u001b[0;32m    593\u001b[0m                 \u001b[0min_axis\u001b[0m\u001b[1;33m,\u001b[0m \u001b[0mname\u001b[0m\u001b[1;33m,\u001b[0m \u001b[0mgpr\u001b[0m \u001b[1;33m=\u001b[0m \u001b[1;32mTrue\u001b[0m\u001b[1;33m,\u001b[0m \u001b[0mgpr\u001b[0m\u001b[1;33m,\u001b[0m \u001b[0mobj\u001b[0m\u001b[1;33m[\u001b[0m\u001b[0mgpr\u001b[0m\u001b[1;33m]\u001b[0m\u001b[1;33m\u001b[0m\u001b[1;33m\u001b[0m\u001b[0m\n\u001b[0;32m    594\u001b[0m                 \u001b[0mexclusions\u001b[0m\u001b[1;33m.\u001b[0m\u001b[0mappend\u001b[0m\u001b[1;33m(\u001b[0m\u001b[0mname\u001b[0m\u001b[1;33m)\u001b[0m\u001b[1;33m\u001b[0m\u001b[1;33m\u001b[0m\u001b[0m\n",
      "\u001b[1;32mC:\\Anaconda3\\lib\\site-packages\\pandas\\core\\generic.py\u001b[0m in \u001b[0;36m_check_label_or_level_ambiguity\u001b[1;34m(self, key, axis)\u001b[0m\n\u001b[0;32m   1645\u001b[0m                 \u001b[1;34mf\"{label_article} {label_type} label, which is ambiguous.\"\u001b[0m\u001b[1;33m\u001b[0m\u001b[1;33m\u001b[0m\u001b[0m\n\u001b[0;32m   1646\u001b[0m             )\n\u001b[1;32m-> 1647\u001b[1;33m             \u001b[1;32mraise\u001b[0m \u001b[0mValueError\u001b[0m\u001b[1;33m(\u001b[0m\u001b[0mmsg\u001b[0m\u001b[1;33m)\u001b[0m\u001b[1;33m\u001b[0m\u001b[1;33m\u001b[0m\u001b[0m\n\u001b[0m\u001b[0;32m   1648\u001b[0m \u001b[1;33m\u001b[0m\u001b[0m\n\u001b[0;32m   1649\u001b[0m     \u001b[1;32mdef\u001b[0m \u001b[0m_get_label_or_level_values\u001b[0m\u001b[1;33m(\u001b[0m\u001b[0mself\u001b[0m\u001b[1;33m,\u001b[0m \u001b[0mkey\u001b[0m\u001b[1;33m:\u001b[0m \u001b[0mstr\u001b[0m\u001b[1;33m,\u001b[0m \u001b[0maxis\u001b[0m\u001b[1;33m:\u001b[0m \u001b[0mint\u001b[0m \u001b[1;33m=\u001b[0m \u001b[1;36m0\u001b[0m\u001b[1;33m)\u001b[0m \u001b[1;33m->\u001b[0m \u001b[0mnp\u001b[0m\u001b[1;33m.\u001b[0m\u001b[0mndarray\u001b[0m\u001b[1;33m:\u001b[0m\u001b[1;33m\u001b[0m\u001b[1;33m\u001b[0m\u001b[0m\n",
      "\u001b[1;31mValueError\u001b[0m: 'DisplayName' is both an index level and a column label, which is ambiguous."
     ]
    }
   ],
   "source": [
    "PlotFuncsObj.plot_data( 'mean', plot_func='boxplot',obstacle='No Obstacle', plot_hue=1)"
   ]
  },
  {
   "cell_type": "code",
   "execution_count": null,
   "metadata": {
    "scrolled": true
   },
   "outputs": [],
   "source": [
    "PlotFuncsObj.plot_data( 'mean', plot_func='violinplot',obstacle='No Obstacle')\n",
    "# ax.figure.savefig(\"mean_rssi_violinplot.png\")"
   ]
  },
  {
   "cell_type": "markdown",
   "metadata": {},
   "source": [
    "Plot move variance"
   ]
  },
  {
   "cell_type": "code",
   "execution_count": null,
   "metadata": {
    "scrolled": true
   },
   "outputs": [],
   "source": [
    "PlotFuncsObj.plot_data( 'var', plot_func='boxplot',obstacle='No Obstacle', plot_hue=1)\n",
    "# ax.figure.savefig(\"var_rssi.png\")"
   ]
  },
  {
   "cell_type": "markdown",
   "metadata": {},
   "source": [
    "Plot counts"
   ]
  },
  {
   "cell_type": "code",
   "execution_count": null,
   "metadata": {
    "scrolled": true
   },
   "outputs": [],
   "source": [
    "PlotFuncsObj.plot_data('count', plot_func='boxplot',obstacle='No Obstacle', plot_hue=1)\n",
    "# ax.figure.savefig(\"count_rssi.png\")"
   ]
  },
  {
   "cell_type": "code",
   "execution_count": null,
   "metadata": {
    "scrolled": true
   },
   "outputs": [],
   "source": [
    "# plot violinplot to show semi distribution\n",
    "PlotFuncsObj.plot_data( 'count', plot_func='violinplot',obstacle='No Obstacle', plot_hue=0)\n",
    "# ax.figure.savefig(\"count_rssi_violinplot.png\")"
   ]
  },
  {
   "cell_type": "markdown",
   "metadata": {},
   "source": [
    "Plot wanted percentile "
   ]
  },
  {
   "cell_type": "code",
   "execution_count": null,
   "metadata": {},
   "outputs": [],
   "source": [
    "wanted_percentile = 90"
   ]
  },
  {
   "cell_type": "code",
   "execution_count": null,
   "metadata": {
    "scrolled": true
   },
   "outputs": [],
   "source": [
    "PlotFuncsObj.plot_data( 'percentile', plot_func='boxplot',obstacle='No Obstacle',percent=wanted_percentile,plot_hue=0)\n",
    "# ax.figure.savefig(\"percentile_\"+str(wanted_percentile) +\"_rssi.png\")"
   ]
  },
  {
   "cell_type": "code",
   "execution_count": null,
   "metadata": {
    "scrolled": true
   },
   "outputs": [],
   "source": [
    "# plot violinplot to show semi distribution\n",
    "PlotFuncsObj.plot_data( 'percentile', plot_func='violinplot',obstacle='No Obstacle',percent=wanted_percentile,plot_hue=0)\n",
    "# ax.figure.savefig(\"percentile_\"+str(wanted_percentile) +\"_rssi_violinplot.png\")"
   ]
  },
  {
   "cell_type": "markdown",
   "metadata": {},
   "source": [
    "Plot above percentile"
   ]
  },
  {
   "cell_type": "code",
   "execution_count": null,
   "metadata": {},
   "outputs": [],
   "source": [
    "wanted_percentile = 85 "
   ]
  },
  {
   "cell_type": "code",
   "execution_count": null,
   "metadata": {},
   "outputs": [],
   "source": [
    "PlotFuncsObj.plot_data( 'above_percentile', plot_func='boxplot',obstacle='No Obstacle',percent=wanted_percentile, margin = 0,plot_hue=1)\n",
    "# ax.figure.savefig(\"above_percentile_\"+str(wanted_percentile)+\"_rssi.png\")"
   ]
  },
  {
   "cell_type": "code",
   "execution_count": null,
   "metadata": {
    "scrolled": true
   },
   "outputs": [],
   "source": [
    "PlotFuncsObj.plot_data( 'above_percentile', plot_func='violinplot',obstacle='No Obstacle',percent=wanted_percentile, margin = 0,plot_hue=0)\n",
    "# ax.figure.savefig(\"above_percentile_\"+str(wanted_percentile)+\"_rssi_violinplot.png\")"
   ]
  },
  {
   "cell_type": "markdown",
   "metadata": {},
   "source": [
    "Plot counts above percentile"
   ]
  },
  {
   "cell_type": "code",
   "execution_count": null,
   "metadata": {},
   "outputs": [],
   "source": [
    "wanted_percentile = 85\n",
    "margin = 1  "
   ]
  },
  {
   "cell_type": "code",
   "execution_count": null,
   "metadata": {},
   "outputs": [],
   "source": [
    "PlotFuncsObj.plot_data( 'above_percentile_counts', plot_func='boxplot',obstacle='No Obstacle',percent=wanted_percentile, margin = margin,plot_hue=1)\n",
    "# ax.figure.savefig(\"above_percentile_\"+str(wanted_percentile)+\"_rssi.png\")"
   ]
  },
  {
   "cell_type": "code",
   "execution_count": 10,
   "metadata": {},
   "outputs": [
    {
     "data": {
      "text/html": [
       "<div>\n",
       "<style scoped>\n",
       "    .dataframe tbody tr th:only-of-type {\n",
       "        vertical-align: middle;\n",
       "    }\n",
       "\n",
       "    .dataframe tbody tr th {\n",
       "        vertical-align: top;\n",
       "    }\n",
       "\n",
       "    .dataframe thead th {\n",
       "        text-align: right;\n",
       "    }\n",
       "</style>\n",
       "<table border=\"1\" class=\"dataframe\">\n",
       "  <thead>\n",
       "    <tr style=\"text-align: right;\">\n",
       "      <th></th>\n",
       "      <th></th>\n",
       "      <th>scannedDeviceRangingData</th>\n",
       "      <th>scannedDeviceEddystoneUid</th>\n",
       "      <th>time</th>\n",
       "      <th>rssi</th>\n",
       "      <th>DisplayName</th>\n",
       "      <th>setup</th>\n",
       "      <th>obstacle</th>\n",
       "      <th>distance</th>\n",
       "    </tr>\n",
       "    <tr>\n",
       "      <th>DisplayName</th>\n",
       "      <th></th>\n",
       "      <th></th>\n",
       "      <th></th>\n",
       "      <th></th>\n",
       "      <th></th>\n",
       "      <th></th>\n",
       "      <th></th>\n",
       "      <th></th>\n",
       "      <th></th>\n",
       "    </tr>\n",
       "  </thead>\n",
       "  <tbody>\n",
       "    <tr>\n",
       "      <th rowspan=\"5\" valign=\"top\">GalaxyNote4_AZer</th>\n",
       "      <th>10966</th>\n",
       "      <td>-15.0</td>\n",
       "      <td>7BB8BD884D95DBBD613585502DBA5E46</td>\n",
       "      <td>2020-03-28 13:45:40.549481700</td>\n",
       "      <td>-1.614286</td>\n",
       "      <td>GalaxyNote4_AZer</td>\n",
       "      <td>Phone in front pocket</td>\n",
       "      <td>No Obstacle</td>\n",
       "      <td>0.75</td>\n",
       "    </tr>\n",
       "    <tr>\n",
       "      <th>10967</th>\n",
       "      <td>-15.0</td>\n",
       "      <td>7BB8BD884D95DBBD613585502DBA5E46</td>\n",
       "      <td>2020-03-28 13:45:40.774225400</td>\n",
       "      <td>-1.614286</td>\n",
       "      <td>GalaxyNote4_AZer</td>\n",
       "      <td>Phone in front pocket</td>\n",
       "      <td>No Obstacle</td>\n",
       "      <td>0.75</td>\n",
       "    </tr>\n",
       "    <tr>\n",
       "      <th>10968</th>\n",
       "      <td>-15.0</td>\n",
       "      <td>7BB8BD884D95DBBD613585502DBA5E46</td>\n",
       "      <td>2020-03-28 13:45:55.701379000</td>\n",
       "      <td>-4.614286</td>\n",
       "      <td>GalaxyNote4_AZer</td>\n",
       "      <td>Phone in front pocket</td>\n",
       "      <td>No Obstacle</td>\n",
       "      <td>0.75</td>\n",
       "    </tr>\n",
       "    <tr>\n",
       "      <th>10969</th>\n",
       "      <td>-15.0</td>\n",
       "      <td>7BB8BD884D95DBBD613585502DBA5E46</td>\n",
       "      <td>2020-03-28 13:46:25.978706400</td>\n",
       "      <td>-6.614286</td>\n",
       "      <td>GalaxyNote4_AZer</td>\n",
       "      <td>Phone in front pocket</td>\n",
       "      <td>No Obstacle</td>\n",
       "      <td>0.75</td>\n",
       "    </tr>\n",
       "    <tr>\n",
       "      <th>10970</th>\n",
       "      <td>-15.0</td>\n",
       "      <td>7BB8BD884D95DBBD613585502DBA5E46</td>\n",
       "      <td>2020-03-28 13:46:30.798561500</td>\n",
       "      <td>-5.614286</td>\n",
       "      <td>GalaxyNote4_AZer</td>\n",
       "      <td>Phone in front pocket</td>\n",
       "      <td>No Obstacle</td>\n",
       "      <td>0.75</td>\n",
       "    </tr>\n",
       "    <tr>\n",
       "      <th>...</th>\n",
       "      <th>...</th>\n",
       "      <td>...</td>\n",
       "      <td>...</td>\n",
       "      <td>...</td>\n",
       "      <td>...</td>\n",
       "      <td>...</td>\n",
       "      <td>...</td>\n",
       "      <td>...</td>\n",
       "      <td>...</td>\n",
       "    </tr>\n",
       "    <tr>\n",
       "      <th rowspan=\"5\" valign=\"top\">RedmiNote8_OAvitan</th>\n",
       "      <th>15285</th>\n",
       "      <td>-15.0</td>\n",
       "      <td>7BB8BD884D95DBBD6135934F7D8F6851</td>\n",
       "      <td>2020-03-27 14:57:42.681812000</td>\n",
       "      <td>NaN</td>\n",
       "      <td>RedmiNote8_OAvitan</td>\n",
       "      <td>Phone in hand</td>\n",
       "      <td>No Obstacle</td>\n",
       "      <td>0.50</td>\n",
       "    </tr>\n",
       "    <tr>\n",
       "      <th>15286</th>\n",
       "      <td>-15.0</td>\n",
       "      <td>7BB8BD884D95DBBD6135934F7D8F6851</td>\n",
       "      <td>2020-03-27 14:57:47.647012900</td>\n",
       "      <td>NaN</td>\n",
       "      <td>RedmiNote8_OAvitan</td>\n",
       "      <td>Phone in hand</td>\n",
       "      <td>No Obstacle</td>\n",
       "      <td>0.50</td>\n",
       "    </tr>\n",
       "    <tr>\n",
       "      <th>15287</th>\n",
       "      <td>-15.0</td>\n",
       "      <td>7BB8BD884D95DBBD6135934F7D8F6851</td>\n",
       "      <td>2020-03-27 14:57:47.913092000</td>\n",
       "      <td>NaN</td>\n",
       "      <td>RedmiNote8_OAvitan</td>\n",
       "      <td>Phone in hand</td>\n",
       "      <td>No Obstacle</td>\n",
       "      <td>0.50</td>\n",
       "    </tr>\n",
       "    <tr>\n",
       "      <th>15288</th>\n",
       "      <td>-15.0</td>\n",
       "      <td>7BB8BD884D95DBBD6135934F7D8F6851</td>\n",
       "      <td>2020-03-27 14:57:48.184900900</td>\n",
       "      <td>NaN</td>\n",
       "      <td>RedmiNote8_OAvitan</td>\n",
       "      <td>Phone in hand</td>\n",
       "      <td>No Obstacle</td>\n",
       "      <td>0.50</td>\n",
       "    </tr>\n",
       "    <tr>\n",
       "      <th>15289</th>\n",
       "      <td>-15.0</td>\n",
       "      <td>7BB8BD884D95DBBD6135934F7D8F6851</td>\n",
       "      <td>2020-03-27 14:58:23.654196700</td>\n",
       "      <td>NaN</td>\n",
       "      <td>RedmiNote8_OAvitan</td>\n",
       "      <td>Phone in hand</td>\n",
       "      <td>No Obstacle</td>\n",
       "      <td>0.50</td>\n",
       "    </tr>\n",
       "  </tbody>\n",
       "</table>\n",
       "<p>15290 rows × 8 columns</p>\n",
       "</div>"
      ],
      "text/plain": [
       "                          scannedDeviceRangingData  \\\n",
       "DisplayName                                          \n",
       "GalaxyNote4_AZer   10966                     -15.0   \n",
       "                   10967                     -15.0   \n",
       "                   10968                     -15.0   \n",
       "                   10969                     -15.0   \n",
       "                   10970                     -15.0   \n",
       "...                                            ...   \n",
       "RedmiNote8_OAvitan 15285                     -15.0   \n",
       "                   15286                     -15.0   \n",
       "                   15287                     -15.0   \n",
       "                   15288                     -15.0   \n",
       "                   15289                     -15.0   \n",
       "\n",
       "                                 scannedDeviceEddystoneUid  \\\n",
       "DisplayName                                                  \n",
       "GalaxyNote4_AZer   10966  7BB8BD884D95DBBD613585502DBA5E46   \n",
       "                   10967  7BB8BD884D95DBBD613585502DBA5E46   \n",
       "                   10968  7BB8BD884D95DBBD613585502DBA5E46   \n",
       "                   10969  7BB8BD884D95DBBD613585502DBA5E46   \n",
       "                   10970  7BB8BD884D95DBBD613585502DBA5E46   \n",
       "...                                                    ...   \n",
       "RedmiNote8_OAvitan 15285  7BB8BD884D95DBBD6135934F7D8F6851   \n",
       "                   15286  7BB8BD884D95DBBD6135934F7D8F6851   \n",
       "                   15287  7BB8BD884D95DBBD6135934F7D8F6851   \n",
       "                   15288  7BB8BD884D95DBBD6135934F7D8F6851   \n",
       "                   15289  7BB8BD884D95DBBD6135934F7D8F6851   \n",
       "\n",
       "                                                  time      rssi  \\\n",
       "DisplayName                                                        \n",
       "GalaxyNote4_AZer   10966 2020-03-28 13:45:40.549481700 -1.614286   \n",
       "                   10967 2020-03-28 13:45:40.774225400 -1.614286   \n",
       "                   10968 2020-03-28 13:45:55.701379000 -4.614286   \n",
       "                   10969 2020-03-28 13:46:25.978706400 -6.614286   \n",
       "                   10970 2020-03-28 13:46:30.798561500 -5.614286   \n",
       "...                                                ...       ...   \n",
       "RedmiNote8_OAvitan 15285 2020-03-27 14:57:42.681812000       NaN   \n",
       "                   15286 2020-03-27 14:57:47.647012900       NaN   \n",
       "                   15287 2020-03-27 14:57:47.913092000       NaN   \n",
       "                   15288 2020-03-27 14:57:48.184900900       NaN   \n",
       "                   15289 2020-03-27 14:58:23.654196700       NaN   \n",
       "\n",
       "                                 DisplayName                  setup  \\\n",
       "DisplayName                                                           \n",
       "GalaxyNote4_AZer   10966    GalaxyNote4_AZer  Phone in front pocket   \n",
       "                   10967    GalaxyNote4_AZer  Phone in front pocket   \n",
       "                   10968    GalaxyNote4_AZer  Phone in front pocket   \n",
       "                   10969    GalaxyNote4_AZer  Phone in front pocket   \n",
       "                   10970    GalaxyNote4_AZer  Phone in front pocket   \n",
       "...                                      ...                    ...   \n",
       "RedmiNote8_OAvitan 15285  RedmiNote8_OAvitan          Phone in hand   \n",
       "                   15286  RedmiNote8_OAvitan          Phone in hand   \n",
       "                   15287  RedmiNote8_OAvitan          Phone in hand   \n",
       "                   15288  RedmiNote8_OAvitan          Phone in hand   \n",
       "                   15289  RedmiNote8_OAvitan          Phone in hand   \n",
       "\n",
       "                             obstacle  distance  \n",
       "DisplayName                                      \n",
       "GalaxyNote4_AZer   10966  No Obstacle      0.75  \n",
       "                   10967  No Obstacle      0.75  \n",
       "                   10968  No Obstacle      0.75  \n",
       "                   10969  No Obstacle      0.75  \n",
       "                   10970  No Obstacle      0.75  \n",
       "...                               ...       ...  \n",
       "RedmiNote8_OAvitan 15285  No Obstacle      0.50  \n",
       "                   15286  No Obstacle      0.50  \n",
       "                   15287  No Obstacle      0.50  \n",
       "                   15288  No Obstacle      0.50  \n",
       "                   15289  No Obstacle      0.50  \n",
       "\n",
       "[15290 rows x 8 columns]"
      ]
     },
     "execution_count": 10,
     "metadata": {},
     "output_type": "execute_result"
    }
   ],
   "source": [
    "plot_tag_data"
   ]
  },
  {
   "cell_type": "code",
   "execution_count": null,
   "metadata": {},
   "outputs": [],
   "source": []
  },
  {
   "cell_type": "code",
   "execution_count": null,
   "metadata": {},
   "outputs": [],
   "source": []
  },
  {
   "cell_type": "code",
   "execution_count": null,
   "metadata": {},
   "outputs": [],
   "source": []
  },
  {
   "cell_type": "code",
   "execution_count": null,
   "metadata": {},
   "outputs": [],
   "source": []
  },
  {
   "cell_type": "markdown",
   "metadata": {},
   "source": [
    "# Are the two devices in the same room?\n"
   ]
  },
  {
   "cell_type": "code",
   "execution_count": null,
   "metadata": {},
   "outputs": [],
   "source": [
    "measurements_same_room = all_tag_measurements.where(all_tag_measurements.obstacle == 'No Obstacle')\n",
    "measurements_same_room = measurements_same_room.dropna(how='any').reset_index(drop=True)\n",
    "\n",
    "measurements_other_room = all_tag_measurements.where(all_tag_measurements.obstacle == 'Obstacle: wall')\n",
    "measurements_other_room = measurements_other_room.dropna(how='any').reset_index(drop=True)\n",
    "\n",
    "sns.boxplot(x=all_tag_measurements[\"obstacle\"], y=all_tag_measurements[\"rssi\"], hue =all_tag_measurements[\"DisplayName\"]).set_title('All distances')"
   ]
  }
 ],
 "metadata": {
  "kernelspec": {
   "display_name": "Python 3",
   "language": "python",
   "name": "python3"
  },
  "language_info": {
   "codemirror_mode": {
    "name": "ipython",
    "version": 3
   },
   "file_extension": ".py",
   "mimetype": "text/x-python",
   "name": "python",
   "nbconvert_exporter": "python",
   "pygments_lexer": "ipython3",
   "version": "3.6.8"
  }
 },
 "nbformat": 4,
 "nbformat_minor": 2
}
