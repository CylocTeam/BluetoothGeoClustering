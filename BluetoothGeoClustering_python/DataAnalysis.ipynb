{
 "cells": [
  {
   "cell_type": "code",
   "execution_count": 2,
   "metadata": {},
   "outputs": [],
   "source": [
    "import numpy as np\n",
    "from matplotlib import pyplot as plt\n",
    "import pandas as pd\n",
    "import seaborn as sns\n",
    "from Score import ScoreClass\n",
    "from DataFuncs import DataFuncs\n",
    "from PlotFunctions import PlotFuncs\n",
    "sns.set(style=\"darkgrid\", rc={'figure.figsize':(12,8)})\n",
    "\n",
    "import warnings\n",
    "warnings.filterwarnings(\"ignore\")"
   ]
  },
  {
   "cell_type": "markdown",
   "metadata": {},
   "source": [
    "# Enable interactive notebook"
   ]
  },
  {
   "cell_type": "code",
   "execution_count": 3,
   "metadata": {},
   "outputs": [],
   "source": [
    "%matplotlib notebook"
   ]
  },
  {
   "cell_type": "markdown",
   "metadata": {},
   "source": [
    "# Main"
   ]
  },
  {
   "cell_type": "markdown",
   "metadata": {},
   "source": [
    "\n",
    "Load Experiment data. "
   ]
  },
  {
   "cell_type": "code",
   "execution_count": 4,
   "metadata": {},
   "outputs": [],
   "source": [
    "DataFuncsObj = DataFuncs()\n",
    "all_tag_measurements = pd.read_pickle(r'tag_measurements_2020_03_28.pkl')\n",
    "all_tag_measurements = all_tag_measurements.dropna(how='any').reset_index(drop=True)"
   ]
  },
  {
   "cell_type": "markdown",
   "metadata": {},
   "source": [
    "# Plots without windowing"
   ]
  },
  {
   "cell_type": "code",
   "execution_count": null,
   "metadata": {
    "scrolled": true
   },
   "outputs": [],
   "source": [
    "# pd.unique(all_tag_measurements.obstacle)\n",
    "obstacle = 'No Obstacle'\n",
    "show_measurements = all_tag_measurements.where(all_tag_measurements.obstacle == obstacle)\n",
    "show_measurements = show_measurements.dropna(how='any').reset_index(drop=True)"
   ]
  },
  {
   "cell_type": "code",
   "execution_count": null,
   "metadata": {},
   "outputs": [],
   "source": [
    "plt.figure()\n",
    "ax = sns.boxplot(x=np.round(show_measurements[\"distance\"]*4)/4, y=show_measurements[\"rssi\"], hue =show_measurements[\"DisplayName\"] ).set_title(obstacle + \" - All setups\")\n",
    "# plt.figure()\n",
    "# ax = sns.boxplot(x=np.round(show_measurements[\"distance\"]*4)/4, y=show_measurements[\"rssi\"] ).set_title(obstacle + \" - All setups\")"
   ]
  },
  {
   "cell_type": "markdown",
   "metadata": {},
   "source": [
    "boxolot for each setup"
   ]
  },
  {
   "cell_type": "code",
   "execution_count": null,
   "metadata": {
    "scrolled": true
   },
   "outputs": [],
   "source": [
    "# pd.unique(show_measurements.setup)\n",
    "for setup in pd.unique(show_measurements.setup):\n",
    "    setup_measurements = show_measurements.where(show_measurements.setup == setup)\n",
    "    title_str = str(obstacle) + \" - \" + str(setup)\n",
    "    plt.figure()\n",
    "#     color by display name\n",
    "#     sns.boxplot(x=np.round(setup_measurements[\"distance\"]*4)/4, y=setup_measurements[\"rssi\"], hue =setup_measurements[\"DisplayName\"]) .set_title(title_str)\n",
    "#     all devices united\n",
    "    sns.boxplot(x=np.round(setup_measurements[\"distance\"]*4)/4, y=setup_measurements[\"rssi\"]) .set_title(title_str)\n",
    "    plt.show()"
   ]
  },
  {
   "cell_type": "markdown",
   "metadata": {},
   "source": [
    "# Plot window data"
   ]
  },
  {
   "cell_type": "code",
   "execution_count": 5,
   "metadata": {},
   "outputs": [],
   "source": [
    "win_size_seconds = 90"
   ]
  },
  {
   "cell_type": "markdown",
   "metadata": {},
   "source": [
    "Choose data to plot"
   ]
  },
  {
   "cell_type": "code",
   "execution_count": null,
   "metadata": {},
   "outputs": [],
   "source": [
    "# choose all data\n",
    "plot_tag_data = all_tag_measurements"
   ]
  },
  {
   "cell_type": "code",
   "execution_count": null,
   "metadata": {},
   "outputs": [],
   "source": [
    "# exclude specific display names\n",
    "plot_tag_data = DataFuncsObj.exclude_display_name_from_df(all_tag_measurements,'GalaxyNote4_AZer')"
   ]
  },
  {
   "cell_type": "code",
   "execution_count": 6,
   "metadata": {},
   "outputs": [
    {
     "name": "stdout",
     "output_type": "stream",
     "text": [
      "GalaxyS7_YDanan:There is no 1m distance, Therefore we use 1.125m to normalize\n",
      "RedmiNote8_OAvitan:There is no 1m distance, Therefore we use 0.5m to normalize\n"
     ]
    }
   ],
   "source": [
    "#normalized data \n",
    "norm_distance = 1 #m\n",
    "setup = 'Phone in hand'\n",
    "plot_tag_data = DataFuncsObj.normalize_by_distance(all_tag_measurements,norm_distance, setup )"
   ]
  },
  {
   "cell_type": "code",
   "execution_count": 7,
   "metadata": {},
   "outputs": [],
   "source": [
    "PlotFuncsObj = PlotFuncs(plot_tag_data, win_size_seconds)"
   ]
  },
  {
   "cell_type": "markdown",
   "metadata": {},
   "source": [
    "Plot move mean"
   ]
  },
  {
   "cell_type": "code",
   "execution_count": null,
   "metadata": {
    "scrolled": false
   },
   "outputs": [],
   "source": [
    "# PlotFuncsObj.set_minor_axes_size(1)\n",
    "PlotFuncsObj.plot_data( 'mean', plot_func='boxplot',obstacle='No Obstacle', plot_hue=0)\n",
    "fig1 = plt.gcf()\n",
    "# PlotFuncsObj.set_minor_axes_size(5)\n",
    "# fig1.savefig(\"mean_rssi.png\")"
   ]
  },
  {
   "cell_type": "code",
   "execution_count": null,
   "metadata": {
    "scrolled": true
   },
   "outputs": [],
   "source": [
    "PlotFuncsObj.plot_data( 'mean', plot_func='violinplot',obstacle='No Obstacle')\n",
    "fig1 = plt.gcf()\n",
    "# fig1.savefig(\"mean_rssi_violinplot.png\")"
   ]
  },
  {
   "cell_type": "markdown",
   "metadata": {},
   "source": [
    "Plot move median"
   ]
  },
  {
   "cell_type": "code",
   "execution_count": null,
   "metadata": {
    "scrolled": true
   },
   "outputs": [],
   "source": [
    "PlotFuncsObj.plot_data( 'median', plot_func='boxplot',obstacle='No Obstacle', plot_hue=0)\n",
    "fig1 = plt.gcf()\n",
    "fig1.savefig(\"median_rssi.png\")"
   ]
  },
  {
   "cell_type": "code",
   "execution_count": null,
   "metadata": {},
   "outputs": [],
   "source": [
    "PlotFuncsObj.plot_data( 'median', plot_func='violinplot',obstacle='No Obstacle')\n",
    "fig1 = plt.gcf()\n",
    "fig1.savefig(\"median_rssi_violinplot.png\")"
   ]
  },
  {
   "cell_type": "markdown",
   "metadata": {},
   "source": [
    "Plot move variance"
   ]
  },
  {
   "cell_type": "code",
   "execution_count": null,
   "metadata": {
    "scrolled": true
   },
   "outputs": [],
   "source": [
    "PlotFuncsObj.plot_data( 'var', plot_func='boxplot',obstacle='No Obstacle', plot_hue=1)\n",
    "fig1 = plt.gcf()\n",
    "# fig1.savefig(\"var_rssi.png\")"
   ]
  },
  {
   "cell_type": "markdown",
   "metadata": {},
   "source": [
    "Plot counts"
   ]
  },
  {
   "cell_type": "code",
   "execution_count": null,
   "metadata": {
    "scrolled": true
   },
   "outputs": [],
   "source": [
    "PlotFuncsObj.plot_data('count', plot_func='boxplot',obstacle='No Obstacle', plot_hue=1)\n",
    "fig1 = plt.gcf()\n",
    "# fig1.savefig(\"count_rssi.png\")"
   ]
  },
  {
   "cell_type": "code",
   "execution_count": null,
   "metadata": {
    "scrolled": true
   },
   "outputs": [],
   "source": [
    "# plot violinplot to show semi distribution\n",
    "PlotFuncsObj.plot_data( 'count', plot_func='violinplot',obstacle='No Obstacle', plot_hue=0)\n",
    "fig1 = plt.gcf()\n",
    "# fig1.savefig(\"count_rssi_violinplot.png\")"
   ]
  },
  {
   "cell_type": "markdown",
   "metadata": {},
   "source": [
    "Plot wanted percentile "
   ]
  },
  {
   "cell_type": "code",
   "execution_count": null,
   "metadata": {},
   "outputs": [],
   "source": [
    "wanted_percentile = 90"
   ]
  },
  {
   "cell_type": "code",
   "execution_count": null,
   "metadata": {
    "scrolled": false
   },
   "outputs": [],
   "source": [
    "# PlotFuncsObj.set_minor_axes_size(1)\n",
    "PlotFuncsObj.plot_data( 'percentile', plot_func='boxplot',obstacle='No Obstacle',percent=wanted_percentile,plot_hue=0)\n",
    "fig1 = plt.gcf()\n",
    "# fig1.savefig(\"percentile_\"+str(wanted_percentile) +\"_rssi.png\")"
   ]
  },
  {
   "cell_type": "code",
   "execution_count": null,
   "metadata": {
    "scrolled": true
   },
   "outputs": [],
   "source": [
    "# plot violinplot to show semi distribution\n",
    "PlotFuncsObj.plot_data( 'percentile', plot_func='violinplot',obstacle='No Obstacle',percent=wanted_percentile,plot_hue=0)\n",
    "fig1 = plt.gcf()\n",
    "# fig1.savefig(\"percentile_\"+str(wanted_percentile) +\"_rssi_violinplot.png\")"
   ]
  },
  {
   "cell_type": "markdown",
   "metadata": {},
   "source": [
    "Plot above percentile"
   ]
  },
  {
   "cell_type": "code",
   "execution_count": null,
   "metadata": {},
   "outputs": [],
   "source": [
    "wanted_percentile = 90"
   ]
  },
  {
   "cell_type": "code",
   "execution_count": null,
   "metadata": {},
   "outputs": [],
   "source": [
    "PlotFuncsObj.plot_data( 'above_percentile', plot_func='boxplot',obstacle='No Obstacle',percent=wanted_percentile, margin = 0,plot_hue=1)\n",
    "fig1 = plt.gcf()\n",
    "# fig1.figure.savefig(\"above_percentile_\"+str(wanted_percentile)+\"_rssi.png\")"
   ]
  },
  {
   "cell_type": "code",
   "execution_count": null,
   "metadata": {
    "scrolled": true
   },
   "outputs": [],
   "source": [
    "PlotFuncsObj.plot_data( 'above_percentile', plot_func='violinplot',obstacle='No Obstacle',percent=wanted_percentile, margin = 0,plot_hue=0)\n",
    "fig1 = plt.gcf()\n",
    "# fig1.savefig(\"above_percentile_\"+str(wanted_percentile)+\"_rssi_violinplot.png\")"
   ]
  },
  {
   "cell_type": "markdown",
   "metadata": {},
   "source": [
    "Plot counts above percentile"
   ]
  },
  {
   "cell_type": "code",
   "execution_count": null,
   "metadata": {},
   "outputs": [],
   "source": [
    "wanted_percentile = 90\n",
    "margin = 0 "
   ]
  },
  {
   "cell_type": "code",
   "execution_count": null,
   "metadata": {},
   "outputs": [],
   "source": [
    "PlotFuncsObj.plot_data( 'above_percentile_counts', plot_func='boxplot',obstacle='No Obstacle',percent=wanted_percentile, margin = margin,plot_hue=1)\n",
    "fig1 = plt.gcf()\n",
    "# fig1.savefig(\"above_percentile_\"+str(wanted_percentile)+\"_rssi.png\")"
   ]
  },
  {
   "cell_type": "markdown",
   "metadata": {},
   "source": [
    "Plot difference between percentiles"
   ]
  },
  {
   "cell_type": "code",
   "execution_count": 10,
   "metadata": {},
   "outputs": [],
   "source": [
    "top_percentile = 80\n",
    "bottom_percentile = 30"
   ]
  },
  {
   "cell_type": "code",
   "execution_count": 11,
   "metadata": {},
   "outputs": [
    {
     "data": {
      "application/javascript": [
       "/* Put everything inside the global mpl namespace */\n",
       "window.mpl = {};\n",
       "\n",
       "\n",
       "mpl.get_websocket_type = function() {\n",
       "    if (typeof(WebSocket) !== 'undefined') {\n",
       "        return WebSocket;\n",
       "    } else if (typeof(MozWebSocket) !== 'undefined') {\n",
       "        return MozWebSocket;\n",
       "    } else {\n",
       "        alert('Your browser does not have WebSocket support. ' +\n",
       "              'Please try Chrome, Safari or Firefox ≥ 6. ' +\n",
       "              'Firefox 4 and 5 are also supported but you ' +\n",
       "              'have to enable WebSockets in about:config.');\n",
       "    };\n",
       "}\n",
       "\n",
       "mpl.figure = function(figure_id, websocket, ondownload, parent_element) {\n",
       "    this.id = figure_id;\n",
       "\n",
       "    this.ws = websocket;\n",
       "\n",
       "    this.supports_binary = (this.ws.binaryType != undefined);\n",
       "\n",
       "    if (!this.supports_binary) {\n",
       "        var warnings = document.getElementById(\"mpl-warnings\");\n",
       "        if (warnings) {\n",
       "            warnings.style.display = 'block';\n",
       "            warnings.textContent = (\n",
       "                \"This browser does not support binary websocket messages. \" +\n",
       "                    \"Performance may be slow.\");\n",
       "        }\n",
       "    }\n",
       "\n",
       "    this.imageObj = new Image();\n",
       "\n",
       "    this.context = undefined;\n",
       "    this.message = undefined;\n",
       "    this.canvas = undefined;\n",
       "    this.rubberband_canvas = undefined;\n",
       "    this.rubberband_context = undefined;\n",
       "    this.format_dropdown = undefined;\n",
       "\n",
       "    this.image_mode = 'full';\n",
       "\n",
       "    this.root = $('<div/>');\n",
       "    this._root_extra_style(this.root)\n",
       "    this.root.attr('style', 'display: inline-block');\n",
       "\n",
       "    $(parent_element).append(this.root);\n",
       "\n",
       "    this._init_header(this);\n",
       "    this._init_canvas(this);\n",
       "    this._init_toolbar(this);\n",
       "\n",
       "    var fig = this;\n",
       "\n",
       "    this.waiting = false;\n",
       "\n",
       "    this.ws.onopen =  function () {\n",
       "            fig.send_message(\"supports_binary\", {value: fig.supports_binary});\n",
       "            fig.send_message(\"send_image_mode\", {});\n",
       "            if (mpl.ratio != 1) {\n",
       "                fig.send_message(\"set_dpi_ratio\", {'dpi_ratio': mpl.ratio});\n",
       "            }\n",
       "            fig.send_message(\"refresh\", {});\n",
       "        }\n",
       "\n",
       "    this.imageObj.onload = function() {\n",
       "            if (fig.image_mode == 'full') {\n",
       "                // Full images could contain transparency (where diff images\n",
       "                // almost always do), so we need to clear the canvas so that\n",
       "                // there is no ghosting.\n",
       "                fig.context.clearRect(0, 0, fig.canvas.width, fig.canvas.height);\n",
       "            }\n",
       "            fig.context.drawImage(fig.imageObj, 0, 0);\n",
       "        };\n",
       "\n",
       "    this.imageObj.onunload = function() {\n",
       "        fig.ws.close();\n",
       "    }\n",
       "\n",
       "    this.ws.onmessage = this._make_on_message_function(this);\n",
       "\n",
       "    this.ondownload = ondownload;\n",
       "}\n",
       "\n",
       "mpl.figure.prototype._init_header = function() {\n",
       "    var titlebar = $(\n",
       "        '<div class=\"ui-dialog-titlebar ui-widget-header ui-corner-all ' +\n",
       "        'ui-helper-clearfix\"/>');\n",
       "    var titletext = $(\n",
       "        '<div class=\"ui-dialog-title\" style=\"width: 100%; ' +\n",
       "        'text-align: center; padding: 3px;\"/>');\n",
       "    titlebar.append(titletext)\n",
       "    this.root.append(titlebar);\n",
       "    this.header = titletext[0];\n",
       "}\n",
       "\n",
       "\n",
       "\n",
       "mpl.figure.prototype._canvas_extra_style = function(canvas_div) {\n",
       "\n",
       "}\n",
       "\n",
       "\n",
       "mpl.figure.prototype._root_extra_style = function(canvas_div) {\n",
       "\n",
       "}\n",
       "\n",
       "mpl.figure.prototype._init_canvas = function() {\n",
       "    var fig = this;\n",
       "\n",
       "    var canvas_div = $('<div/>');\n",
       "\n",
       "    canvas_div.attr('style', 'position: relative; clear: both; outline: 0');\n",
       "\n",
       "    function canvas_keyboard_event(event) {\n",
       "        return fig.key_event(event, event['data']);\n",
       "    }\n",
       "\n",
       "    canvas_div.keydown('key_press', canvas_keyboard_event);\n",
       "    canvas_div.keyup('key_release', canvas_keyboard_event);\n",
       "    this.canvas_div = canvas_div\n",
       "    this._canvas_extra_style(canvas_div)\n",
       "    this.root.append(canvas_div);\n",
       "\n",
       "    var canvas = $('<canvas/>');\n",
       "    canvas.addClass('mpl-canvas');\n",
       "    canvas.attr('style', \"left: 0; top: 0; z-index: 0; outline: 0\")\n",
       "\n",
       "    this.canvas = canvas[0];\n",
       "    this.context = canvas[0].getContext(\"2d\");\n",
       "\n",
       "    var backingStore = this.context.backingStorePixelRatio ||\n",
       "\tthis.context.webkitBackingStorePixelRatio ||\n",
       "\tthis.context.mozBackingStorePixelRatio ||\n",
       "\tthis.context.msBackingStorePixelRatio ||\n",
       "\tthis.context.oBackingStorePixelRatio ||\n",
       "\tthis.context.backingStorePixelRatio || 1;\n",
       "\n",
       "    mpl.ratio = (window.devicePixelRatio || 1) / backingStore;\n",
       "\n",
       "    var rubberband = $('<canvas/>');\n",
       "    rubberband.attr('style', \"position: absolute; left: 0; top: 0; z-index: 1;\")\n",
       "\n",
       "    var pass_mouse_events = true;\n",
       "\n",
       "    canvas_div.resizable({\n",
       "        start: function(event, ui) {\n",
       "            pass_mouse_events = false;\n",
       "        },\n",
       "        resize: function(event, ui) {\n",
       "            fig.request_resize(ui.size.width, ui.size.height);\n",
       "        },\n",
       "        stop: function(event, ui) {\n",
       "            pass_mouse_events = true;\n",
       "            fig.request_resize(ui.size.width, ui.size.height);\n",
       "        },\n",
       "    });\n",
       "\n",
       "    function mouse_event_fn(event) {\n",
       "        if (pass_mouse_events)\n",
       "            return fig.mouse_event(event, event['data']);\n",
       "    }\n",
       "\n",
       "    rubberband.mousedown('button_press', mouse_event_fn);\n",
       "    rubberband.mouseup('button_release', mouse_event_fn);\n",
       "    // Throttle sequential mouse events to 1 every 20ms.\n",
       "    rubberband.mousemove('motion_notify', mouse_event_fn);\n",
       "\n",
       "    rubberband.mouseenter('figure_enter', mouse_event_fn);\n",
       "    rubberband.mouseleave('figure_leave', mouse_event_fn);\n",
       "\n",
       "    canvas_div.on(\"wheel\", function (event) {\n",
       "        event = event.originalEvent;\n",
       "        event['data'] = 'scroll'\n",
       "        if (event.deltaY < 0) {\n",
       "            event.step = 1;\n",
       "        } else {\n",
       "            event.step = -1;\n",
       "        }\n",
       "        mouse_event_fn(event);\n",
       "    });\n",
       "\n",
       "    canvas_div.append(canvas);\n",
       "    canvas_div.append(rubberband);\n",
       "\n",
       "    this.rubberband = rubberband;\n",
       "    this.rubberband_canvas = rubberband[0];\n",
       "    this.rubberband_context = rubberband[0].getContext(\"2d\");\n",
       "    this.rubberband_context.strokeStyle = \"#000000\";\n",
       "\n",
       "    this._resize_canvas = function(width, height) {\n",
       "        // Keep the size of the canvas, canvas container, and rubber band\n",
       "        // canvas in synch.\n",
       "        canvas_div.css('width', width)\n",
       "        canvas_div.css('height', height)\n",
       "\n",
       "        canvas.attr('width', width * mpl.ratio);\n",
       "        canvas.attr('height', height * mpl.ratio);\n",
       "        canvas.attr('style', 'width: ' + width + 'px; height: ' + height + 'px;');\n",
       "\n",
       "        rubberband.attr('width', width);\n",
       "        rubberband.attr('height', height);\n",
       "    }\n",
       "\n",
       "    // Set the figure to an initial 600x600px, this will subsequently be updated\n",
       "    // upon first draw.\n",
       "    this._resize_canvas(600, 600);\n",
       "\n",
       "    // Disable right mouse context menu.\n",
       "    $(this.rubberband_canvas).bind(\"contextmenu\",function(e){\n",
       "        return false;\n",
       "    });\n",
       "\n",
       "    function set_focus () {\n",
       "        canvas.focus();\n",
       "        canvas_div.focus();\n",
       "    }\n",
       "\n",
       "    window.setTimeout(set_focus, 100);\n",
       "}\n",
       "\n",
       "mpl.figure.prototype._init_toolbar = function() {\n",
       "    var fig = this;\n",
       "\n",
       "    var nav_element = $('<div/>');\n",
       "    nav_element.attr('style', 'width: 100%');\n",
       "    this.root.append(nav_element);\n",
       "\n",
       "    // Define a callback function for later on.\n",
       "    function toolbar_event(event) {\n",
       "        return fig.toolbar_button_onclick(event['data']);\n",
       "    }\n",
       "    function toolbar_mouse_event(event) {\n",
       "        return fig.toolbar_button_onmouseover(event['data']);\n",
       "    }\n",
       "\n",
       "    for(var toolbar_ind in mpl.toolbar_items) {\n",
       "        var name = mpl.toolbar_items[toolbar_ind][0];\n",
       "        var tooltip = mpl.toolbar_items[toolbar_ind][1];\n",
       "        var image = mpl.toolbar_items[toolbar_ind][2];\n",
       "        var method_name = mpl.toolbar_items[toolbar_ind][3];\n",
       "\n",
       "        if (!name) {\n",
       "            // put a spacer in here.\n",
       "            continue;\n",
       "        }\n",
       "        var button = $('<button/>');\n",
       "        button.addClass('ui-button ui-widget ui-state-default ui-corner-all ' +\n",
       "                        'ui-button-icon-only');\n",
       "        button.attr('role', 'button');\n",
       "        button.attr('aria-disabled', 'false');\n",
       "        button.click(method_name, toolbar_event);\n",
       "        button.mouseover(tooltip, toolbar_mouse_event);\n",
       "\n",
       "        var icon_img = $('<span/>');\n",
       "        icon_img.addClass('ui-button-icon-primary ui-icon');\n",
       "        icon_img.addClass(image);\n",
       "        icon_img.addClass('ui-corner-all');\n",
       "\n",
       "        var tooltip_span = $('<span/>');\n",
       "        tooltip_span.addClass('ui-button-text');\n",
       "        tooltip_span.html(tooltip);\n",
       "\n",
       "        button.append(icon_img);\n",
       "        button.append(tooltip_span);\n",
       "\n",
       "        nav_element.append(button);\n",
       "    }\n",
       "\n",
       "    var fmt_picker_span = $('<span/>');\n",
       "\n",
       "    var fmt_picker = $('<select/>');\n",
       "    fmt_picker.addClass('mpl-toolbar-option ui-widget ui-widget-content');\n",
       "    fmt_picker_span.append(fmt_picker);\n",
       "    nav_element.append(fmt_picker_span);\n",
       "    this.format_dropdown = fmt_picker[0];\n",
       "\n",
       "    for (var ind in mpl.extensions) {\n",
       "        var fmt = mpl.extensions[ind];\n",
       "        var option = $(\n",
       "            '<option/>', {selected: fmt === mpl.default_extension}).html(fmt);\n",
       "        fmt_picker.append(option);\n",
       "    }\n",
       "\n",
       "    // Add hover states to the ui-buttons\n",
       "    $( \".ui-button\" ).hover(\n",
       "        function() { $(this).addClass(\"ui-state-hover\");},\n",
       "        function() { $(this).removeClass(\"ui-state-hover\");}\n",
       "    );\n",
       "\n",
       "    var status_bar = $('<span class=\"mpl-message\"/>');\n",
       "    nav_element.append(status_bar);\n",
       "    this.message = status_bar[0];\n",
       "}\n",
       "\n",
       "mpl.figure.prototype.request_resize = function(x_pixels, y_pixels) {\n",
       "    // Request matplotlib to resize the figure. Matplotlib will then trigger a resize in the client,\n",
       "    // which will in turn request a refresh of the image.\n",
       "    this.send_message('resize', {'width': x_pixels, 'height': y_pixels});\n",
       "}\n",
       "\n",
       "mpl.figure.prototype.send_message = function(type, properties) {\n",
       "    properties['type'] = type;\n",
       "    properties['figure_id'] = this.id;\n",
       "    this.ws.send(JSON.stringify(properties));\n",
       "}\n",
       "\n",
       "mpl.figure.prototype.send_draw_message = function() {\n",
       "    if (!this.waiting) {\n",
       "        this.waiting = true;\n",
       "        this.ws.send(JSON.stringify({type: \"draw\", figure_id: this.id}));\n",
       "    }\n",
       "}\n",
       "\n",
       "\n",
       "mpl.figure.prototype.handle_save = function(fig, msg) {\n",
       "    var format_dropdown = fig.format_dropdown;\n",
       "    var format = format_dropdown.options[format_dropdown.selectedIndex].value;\n",
       "    fig.ondownload(fig, format);\n",
       "}\n",
       "\n",
       "\n",
       "mpl.figure.prototype.handle_resize = function(fig, msg) {\n",
       "    var size = msg['size'];\n",
       "    if (size[0] != fig.canvas.width || size[1] != fig.canvas.height) {\n",
       "        fig._resize_canvas(size[0], size[1]);\n",
       "        fig.send_message(\"refresh\", {});\n",
       "    };\n",
       "}\n",
       "\n",
       "mpl.figure.prototype.handle_rubberband = function(fig, msg) {\n",
       "    var x0 = msg['x0'] / mpl.ratio;\n",
       "    var y0 = (fig.canvas.height - msg['y0']) / mpl.ratio;\n",
       "    var x1 = msg['x1'] / mpl.ratio;\n",
       "    var y1 = (fig.canvas.height - msg['y1']) / mpl.ratio;\n",
       "    x0 = Math.floor(x0) + 0.5;\n",
       "    y0 = Math.floor(y0) + 0.5;\n",
       "    x1 = Math.floor(x1) + 0.5;\n",
       "    y1 = Math.floor(y1) + 0.5;\n",
       "    var min_x = Math.min(x0, x1);\n",
       "    var min_y = Math.min(y0, y1);\n",
       "    var width = Math.abs(x1 - x0);\n",
       "    var height = Math.abs(y1 - y0);\n",
       "\n",
       "    fig.rubberband_context.clearRect(\n",
       "        0, 0, fig.canvas.width, fig.canvas.height);\n",
       "\n",
       "    fig.rubberband_context.strokeRect(min_x, min_y, width, height);\n",
       "}\n",
       "\n",
       "mpl.figure.prototype.handle_figure_label = function(fig, msg) {\n",
       "    // Updates the figure title.\n",
       "    fig.header.textContent = msg['label'];\n",
       "}\n",
       "\n",
       "mpl.figure.prototype.handle_cursor = function(fig, msg) {\n",
       "    var cursor = msg['cursor'];\n",
       "    switch(cursor)\n",
       "    {\n",
       "    case 0:\n",
       "        cursor = 'pointer';\n",
       "        break;\n",
       "    case 1:\n",
       "        cursor = 'default';\n",
       "        break;\n",
       "    case 2:\n",
       "        cursor = 'crosshair';\n",
       "        break;\n",
       "    case 3:\n",
       "        cursor = 'move';\n",
       "        break;\n",
       "    }\n",
       "    fig.rubberband_canvas.style.cursor = cursor;\n",
       "}\n",
       "\n",
       "mpl.figure.prototype.handle_message = function(fig, msg) {\n",
       "    fig.message.textContent = msg['message'];\n",
       "}\n",
       "\n",
       "mpl.figure.prototype.handle_draw = function(fig, msg) {\n",
       "    // Request the server to send over a new figure.\n",
       "    fig.send_draw_message();\n",
       "}\n",
       "\n",
       "mpl.figure.prototype.handle_image_mode = function(fig, msg) {\n",
       "    fig.image_mode = msg['mode'];\n",
       "}\n",
       "\n",
       "mpl.figure.prototype.updated_canvas_event = function() {\n",
       "    // Called whenever the canvas gets updated.\n",
       "    this.send_message(\"ack\", {});\n",
       "}\n",
       "\n",
       "// A function to construct a web socket function for onmessage handling.\n",
       "// Called in the figure constructor.\n",
       "mpl.figure.prototype._make_on_message_function = function(fig) {\n",
       "    return function socket_on_message(evt) {\n",
       "        if (evt.data instanceof Blob) {\n",
       "            /* FIXME: We get \"Resource interpreted as Image but\n",
       "             * transferred with MIME type text/plain:\" errors on\n",
       "             * Chrome.  But how to set the MIME type?  It doesn't seem\n",
       "             * to be part of the websocket stream */\n",
       "            evt.data.type = \"image/png\";\n",
       "\n",
       "            /* Free the memory for the previous frames */\n",
       "            if (fig.imageObj.src) {\n",
       "                (window.URL || window.webkitURL).revokeObjectURL(\n",
       "                    fig.imageObj.src);\n",
       "            }\n",
       "\n",
       "            fig.imageObj.src = (window.URL || window.webkitURL).createObjectURL(\n",
       "                evt.data);\n",
       "            fig.updated_canvas_event();\n",
       "            fig.waiting = false;\n",
       "            return;\n",
       "        }\n",
       "        else if (typeof evt.data === 'string' && evt.data.slice(0, 21) == \"data:image/png;base64\") {\n",
       "            fig.imageObj.src = evt.data;\n",
       "            fig.updated_canvas_event();\n",
       "            fig.waiting = false;\n",
       "            return;\n",
       "        }\n",
       "\n",
       "        var msg = JSON.parse(evt.data);\n",
       "        var msg_type = msg['type'];\n",
       "\n",
       "        // Call the  \"handle_{type}\" callback, which takes\n",
       "        // the figure and JSON message as its only arguments.\n",
       "        try {\n",
       "            var callback = fig[\"handle_\" + msg_type];\n",
       "        } catch (e) {\n",
       "            console.log(\"No handler for the '\" + msg_type + \"' message type: \", msg);\n",
       "            return;\n",
       "        }\n",
       "\n",
       "        if (callback) {\n",
       "            try {\n",
       "                // console.log(\"Handling '\" + msg_type + \"' message: \", msg);\n",
       "                callback(fig, msg);\n",
       "            } catch (e) {\n",
       "                console.log(\"Exception inside the 'handler_\" + msg_type + \"' callback:\", e, e.stack, msg);\n",
       "            }\n",
       "        }\n",
       "    };\n",
       "}\n",
       "\n",
       "// from http://stackoverflow.com/questions/1114465/getting-mouse-location-in-canvas\n",
       "mpl.findpos = function(e) {\n",
       "    //this section is from http://www.quirksmode.org/js/events_properties.html\n",
       "    var targ;\n",
       "    if (!e)\n",
       "        e = window.event;\n",
       "    if (e.target)\n",
       "        targ = e.target;\n",
       "    else if (e.srcElement)\n",
       "        targ = e.srcElement;\n",
       "    if (targ.nodeType == 3) // defeat Safari bug\n",
       "        targ = targ.parentNode;\n",
       "\n",
       "    // jQuery normalizes the pageX and pageY\n",
       "    // pageX,Y are the mouse positions relative to the document\n",
       "    // offset() returns the position of the element relative to the document\n",
       "    var x = e.pageX - $(targ).offset().left;\n",
       "    var y = e.pageY - $(targ).offset().top;\n",
       "\n",
       "    return {\"x\": x, \"y\": y};\n",
       "};\n",
       "\n",
       "/*\n",
       " * return a copy of an object with only non-object keys\n",
       " * we need this to avoid circular references\n",
       " * http://stackoverflow.com/a/24161582/3208463\n",
       " */\n",
       "function simpleKeys (original) {\n",
       "  return Object.keys(original).reduce(function (obj, key) {\n",
       "    if (typeof original[key] !== 'object')\n",
       "        obj[key] = original[key]\n",
       "    return obj;\n",
       "  }, {});\n",
       "}\n",
       "\n",
       "mpl.figure.prototype.mouse_event = function(event, name) {\n",
       "    var canvas_pos = mpl.findpos(event)\n",
       "\n",
       "    if (name === 'button_press')\n",
       "    {\n",
       "        this.canvas.focus();\n",
       "        this.canvas_div.focus();\n",
       "    }\n",
       "\n",
       "    var x = canvas_pos.x * mpl.ratio;\n",
       "    var y = canvas_pos.y * mpl.ratio;\n",
       "\n",
       "    this.send_message(name, {x: x, y: y, button: event.button,\n",
       "                             step: event.step,\n",
       "                             guiEvent: simpleKeys(event)});\n",
       "\n",
       "    /* This prevents the web browser from automatically changing to\n",
       "     * the text insertion cursor when the button is pressed.  We want\n",
       "     * to control all of the cursor setting manually through the\n",
       "     * 'cursor' event from matplotlib */\n",
       "    event.preventDefault();\n",
       "    return false;\n",
       "}\n",
       "\n",
       "mpl.figure.prototype._key_event_extra = function(event, name) {\n",
       "    // Handle any extra behaviour associated with a key event\n",
       "}\n",
       "\n",
       "mpl.figure.prototype.key_event = function(event, name) {\n",
       "\n",
       "    // Prevent repeat events\n",
       "    if (name == 'key_press')\n",
       "    {\n",
       "        if (event.which === this._key)\n",
       "            return;\n",
       "        else\n",
       "            this._key = event.which;\n",
       "    }\n",
       "    if (name == 'key_release')\n",
       "        this._key = null;\n",
       "\n",
       "    var value = '';\n",
       "    if (event.ctrlKey && event.which != 17)\n",
       "        value += \"ctrl+\";\n",
       "    if (event.altKey && event.which != 18)\n",
       "        value += \"alt+\";\n",
       "    if (event.shiftKey && event.which != 16)\n",
       "        value += \"shift+\";\n",
       "\n",
       "    value += 'k';\n",
       "    value += event.which.toString();\n",
       "\n",
       "    this._key_event_extra(event, name);\n",
       "\n",
       "    this.send_message(name, {key: value,\n",
       "                             guiEvent: simpleKeys(event)});\n",
       "    return false;\n",
       "}\n",
       "\n",
       "mpl.figure.prototype.toolbar_button_onclick = function(name) {\n",
       "    if (name == 'download') {\n",
       "        this.handle_save(this, null);\n",
       "    } else {\n",
       "        this.send_message(\"toolbar_button\", {name: name});\n",
       "    }\n",
       "};\n",
       "\n",
       "mpl.figure.prototype.toolbar_button_onmouseover = function(tooltip) {\n",
       "    this.message.textContent = tooltip;\n",
       "};\n",
       "mpl.toolbar_items = [[\"Home\", \"Reset original view\", \"fa fa-home icon-home\", \"home\"], [\"Back\", \"Back to previous view\", \"fa fa-arrow-left icon-arrow-left\", \"back\"], [\"Forward\", \"Forward to next view\", \"fa fa-arrow-right icon-arrow-right\", \"forward\"], [\"\", \"\", \"\", \"\"], [\"Pan\", \"Pan axes with left mouse, zoom with right\", \"fa fa-arrows icon-move\", \"pan\"], [\"Zoom\", \"Zoom to rectangle\", \"fa fa-square-o icon-check-empty\", \"zoom\"], [\"\", \"\", \"\", \"\"], [\"Download\", \"Download plot\", \"fa fa-floppy-o icon-save\", \"download\"]];\n",
       "\n",
       "mpl.extensions = [\"eps\", \"jpeg\", \"pdf\", \"png\", \"ps\", \"raw\", \"svg\", \"tif\"];\n",
       "\n",
       "mpl.default_extension = \"png\";var comm_websocket_adapter = function(comm) {\n",
       "    // Create a \"websocket\"-like object which calls the given IPython comm\n",
       "    // object with the appropriate methods. Currently this is a non binary\n",
       "    // socket, so there is still some room for performance tuning.\n",
       "    var ws = {};\n",
       "\n",
       "    ws.close = function() {\n",
       "        comm.close()\n",
       "    };\n",
       "    ws.send = function(m) {\n",
       "        //console.log('sending', m);\n",
       "        comm.send(m);\n",
       "    };\n",
       "    // Register the callback with on_msg.\n",
       "    comm.on_msg(function(msg) {\n",
       "        //console.log('receiving', msg['content']['data'], msg);\n",
       "        // Pass the mpl event to the overridden (by mpl) onmessage function.\n",
       "        ws.onmessage(msg['content']['data'])\n",
       "    });\n",
       "    return ws;\n",
       "}\n",
       "\n",
       "mpl.mpl_figure_comm = function(comm, msg) {\n",
       "    // This is the function which gets called when the mpl process\n",
       "    // starts-up an IPython Comm through the \"matplotlib\" channel.\n",
       "\n",
       "    var id = msg.content.data.id;\n",
       "    // Get hold of the div created by the display call when the Comm\n",
       "    // socket was opened in Python.\n",
       "    var element = $(\"#\" + id);\n",
       "    var ws_proxy = comm_websocket_adapter(comm)\n",
       "\n",
       "    function ondownload(figure, format) {\n",
       "        window.open(figure.imageObj.src);\n",
       "    }\n",
       "\n",
       "    var fig = new mpl.figure(id, ws_proxy,\n",
       "                           ondownload,\n",
       "                           element.get(0));\n",
       "\n",
       "    // Call onopen now - mpl needs it, as it is assuming we've passed it a real\n",
       "    // web socket which is closed, not our websocket->open comm proxy.\n",
       "    ws_proxy.onopen();\n",
       "\n",
       "    fig.parent_element = element.get(0);\n",
       "    fig.cell_info = mpl.find_output_cell(\"<div id='\" + id + \"'></div>\");\n",
       "    if (!fig.cell_info) {\n",
       "        console.error(\"Failed to find cell for figure\", id, fig);\n",
       "        return;\n",
       "    }\n",
       "\n",
       "    var output_index = fig.cell_info[2]\n",
       "    var cell = fig.cell_info[0];\n",
       "\n",
       "};\n",
       "\n",
       "mpl.figure.prototype.handle_close = function(fig, msg) {\n",
       "    var width = fig.canvas.width/mpl.ratio\n",
       "    fig.root.unbind('remove')\n",
       "\n",
       "    // Update the output cell to use the data from the current canvas.\n",
       "    fig.push_to_output();\n",
       "    var dataURL = fig.canvas.toDataURL();\n",
       "    // Re-enable the keyboard manager in IPython - without this line, in FF,\n",
       "    // the notebook keyboard shortcuts fail.\n",
       "    IPython.keyboard_manager.enable()\n",
       "    $(fig.parent_element).html('<img src=\"' + dataURL + '\" width=\"' + width + '\">');\n",
       "    fig.close_ws(fig, msg);\n",
       "}\n",
       "\n",
       "mpl.figure.prototype.close_ws = function(fig, msg){\n",
       "    fig.send_message('closing', msg);\n",
       "    // fig.ws.close()\n",
       "}\n",
       "\n",
       "mpl.figure.prototype.push_to_output = function(remove_interactive) {\n",
       "    // Turn the data on the canvas into data in the output cell.\n",
       "    var width = this.canvas.width/mpl.ratio\n",
       "    var dataURL = this.canvas.toDataURL();\n",
       "    this.cell_info[1]['text/html'] = '<img src=\"' + dataURL + '\" width=\"' + width + '\">';\n",
       "}\n",
       "\n",
       "mpl.figure.prototype.updated_canvas_event = function() {\n",
       "    // Tell IPython that the notebook contents must change.\n",
       "    IPython.notebook.set_dirty(true);\n",
       "    this.send_message(\"ack\", {});\n",
       "    var fig = this;\n",
       "    // Wait a second, then push the new image to the DOM so\n",
       "    // that it is saved nicely (might be nice to debounce this).\n",
       "    setTimeout(function () { fig.push_to_output() }, 1000);\n",
       "}\n",
       "\n",
       "mpl.figure.prototype._init_toolbar = function() {\n",
       "    var fig = this;\n",
       "\n",
       "    var nav_element = $('<div/>');\n",
       "    nav_element.attr('style', 'width: 100%');\n",
       "    this.root.append(nav_element);\n",
       "\n",
       "    // Define a callback function for later on.\n",
       "    function toolbar_event(event) {\n",
       "        return fig.toolbar_button_onclick(event['data']);\n",
       "    }\n",
       "    function toolbar_mouse_event(event) {\n",
       "        return fig.toolbar_button_onmouseover(event['data']);\n",
       "    }\n",
       "\n",
       "    for(var toolbar_ind in mpl.toolbar_items){\n",
       "        var name = mpl.toolbar_items[toolbar_ind][0];\n",
       "        var tooltip = mpl.toolbar_items[toolbar_ind][1];\n",
       "        var image = mpl.toolbar_items[toolbar_ind][2];\n",
       "        var method_name = mpl.toolbar_items[toolbar_ind][3];\n",
       "\n",
       "        if (!name) { continue; };\n",
       "\n",
       "        var button = $('<button class=\"btn btn-default\" href=\"#\" title=\"' + name + '\"><i class=\"fa ' + image + ' fa-lg\"></i></button>');\n",
       "        button.click(method_name, toolbar_event);\n",
       "        button.mouseover(tooltip, toolbar_mouse_event);\n",
       "        nav_element.append(button);\n",
       "    }\n",
       "\n",
       "    // Add the status bar.\n",
       "    var status_bar = $('<span class=\"mpl-message\" style=\"text-align:right; float: right;\"/>');\n",
       "    nav_element.append(status_bar);\n",
       "    this.message = status_bar[0];\n",
       "\n",
       "    // Add the close button to the window.\n",
       "    var buttongrp = $('<div class=\"btn-group inline pull-right\"></div>');\n",
       "    var button = $('<button class=\"btn btn-mini btn-primary\" href=\"#\" title=\"Stop Interaction\"><i class=\"fa fa-power-off icon-remove icon-large\"></i></button>');\n",
       "    button.click(function (evt) { fig.handle_close(fig, {}); } );\n",
       "    button.mouseover('Stop Interaction', toolbar_mouse_event);\n",
       "    buttongrp.append(button);\n",
       "    var titlebar = this.root.find($('.ui-dialog-titlebar'));\n",
       "    titlebar.prepend(buttongrp);\n",
       "}\n",
       "\n",
       "mpl.figure.prototype._root_extra_style = function(el){\n",
       "    var fig = this\n",
       "    el.on(\"remove\", function(){\n",
       "\tfig.close_ws(fig, {});\n",
       "    });\n",
       "}\n",
       "\n",
       "mpl.figure.prototype._canvas_extra_style = function(el){\n",
       "    // this is important to make the div 'focusable\n",
       "    el.attr('tabindex', 0)\n",
       "    // reach out to IPython and tell the keyboard manager to turn it's self\n",
       "    // off when our div gets focus\n",
       "\n",
       "    // location in version 3\n",
       "    if (IPython.notebook.keyboard_manager) {\n",
       "        IPython.notebook.keyboard_manager.register_events(el);\n",
       "    }\n",
       "    else {\n",
       "        // location in version 2\n",
       "        IPython.keyboard_manager.register_events(el);\n",
       "    }\n",
       "\n",
       "}\n",
       "\n",
       "mpl.figure.prototype._key_event_extra = function(event, name) {\n",
       "    var manager = IPython.notebook.keyboard_manager;\n",
       "    if (!manager)\n",
       "        manager = IPython.keyboard_manager;\n",
       "\n",
       "    // Check for shift+enter\n",
       "    if (event.shiftKey && event.which == 13) {\n",
       "        this.canvas_div.blur();\n",
       "        event.shiftKey = false;\n",
       "        // Send a \"J\" for go to next cell\n",
       "        event.which = 74;\n",
       "        event.keyCode = 74;\n",
       "        manager.command_mode();\n",
       "        manager.handle_keydown(event);\n",
       "    }\n",
       "}\n",
       "\n",
       "mpl.figure.prototype.handle_save = function(fig, msg) {\n",
       "    fig.ondownload(fig, null);\n",
       "}\n",
       "\n",
       "\n",
       "mpl.find_output_cell = function(html_output) {\n",
       "    // Return the cell and output element which can be found *uniquely* in the notebook.\n",
       "    // Note - this is a bit hacky, but it is done because the \"notebook_saving.Notebook\"\n",
       "    // IPython event is triggered only after the cells have been serialised, which for\n",
       "    // our purposes (turning an active figure into a static one), is too late.\n",
       "    var cells = IPython.notebook.get_cells();\n",
       "    var ncells = cells.length;\n",
       "    for (var i=0; i<ncells; i++) {\n",
       "        var cell = cells[i];\n",
       "        if (cell.cell_type === 'code'){\n",
       "            for (var j=0; j<cell.output_area.outputs.length; j++) {\n",
       "                var data = cell.output_area.outputs[j];\n",
       "                if (data.data) {\n",
       "                    // IPython >= 3 moved mimebundle to data attribute of output\n",
       "                    data = data.data;\n",
       "                }\n",
       "                if (data['text/html'] == html_output) {\n",
       "                    return [cell, data, j];\n",
       "                }\n",
       "            }\n",
       "        }\n",
       "    }\n",
       "}\n",
       "\n",
       "// Register the function which deals with the matplotlib target/channel.\n",
       "// The kernel may be null if the page has been refreshed.\n",
       "if (IPython.notebook.kernel != null) {\n",
       "    IPython.notebook.kernel.comm_manager.register_target('matplotlib', mpl.mpl_figure_comm);\n",
       "}\n"
      ],
      "text/plain": [
       "<IPython.core.display.Javascript object>"
      ]
     },
     "metadata": {},
     "output_type": "display_data"
    },
    {
     "data": {
      "text/html": [
       "<img src=\"data:image/png;base64,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\" width=\"1200\">"
      ],
      "text/plain": [
       "<IPython.core.display.HTML object>"
      ]
     },
     "metadata": {},
     "output_type": "display_data"
    }
   ],
   "source": [
    "PlotFuncsObj.plot_data( 'different_between_percentiles', plot_func='boxplot',obstacle='No Obstacle',top_percent=top_percentile, bottom_percent = bottom_percentile,plot_hue=1)\n",
    "fig1 = plt.gcf()\n",
    "# fig1.savefig(\"different_between_percentiles_\"+str(bottom_percentile)+\"to\"+str(top_percentile)+\"_rssi.png\")"
   ]
  },
  {
   "cell_type": "markdown",
   "metadata": {},
   "source": [
    "# Scores"
   ]
  },
  {
   "cell_type": "markdown",
   "metadata": {},
   "source": [
    "Normalized"
   ]
  },
  {
   "cell_type": "markdown",
   "metadata": {},
   "source": [
    "window = 60s; distance - 1.5m ; mean rssi > -7dB "
   ]
  },
  {
   "cell_type": "code",
   "execution_count": null,
   "metadata": {},
   "outputs": [],
   "source": [
    "score_obj = ScoreClass(plot_tag_data, 60, 'mean', 1.5, -7)\n",
    "score_obj.get_all_scores()"
   ]
  },
  {
   "cell_type": "markdown",
   "metadata": {},
   "source": [
    "window = 60s; distance - 3m ; mean rssi > -8dB "
   ]
  },
  {
   "cell_type": "code",
   "execution_count": null,
   "metadata": {},
   "outputs": [],
   "source": [
    "score_obj = ScoreClass(plot_tag_data, 60, 'mean', 3, -8)\n",
    "score_obj.get_all_scores()"
   ]
  },
  {
   "cell_type": "markdown",
   "metadata": {},
   "source": [
    "window = 60s; distance - 3.5m ; percentile 90 > -5dB "
   ]
  },
  {
   "cell_type": "code",
   "execution_count": null,
   "metadata": {},
   "outputs": [],
   "source": [
    "score_obj = ScoreClass(plot_tag_data, 60, 'percentile', 3.5, -5, percent = 90)\n",
    "score_obj.get_all_scores()"
   ]
  },
  {
   "cell_type": "markdown",
   "metadata": {},
   "source": [
    "window = 60s; distance - 2.5m ; percentile 90 > -3dB "
   ]
  },
  {
   "cell_type": "code",
   "execution_count": null,
   "metadata": {},
   "outputs": [],
   "source": [
    "score_obj = ScoreClass(plot_tag_data, 60, 'percentile', 2.5, -3, percent = 90)\n",
    "score_obj.get_all_scores()"
   ]
  },
  {
   "cell_type": "markdown",
   "metadata": {},
   "source": [
    "window = 30s; distance - 3.5m ; median > -7dB "
   ]
  },
  {
   "cell_type": "code",
   "execution_count": null,
   "metadata": {},
   "outputs": [],
   "source": [
    "score_obj = ScoreClass(plot_tag_data, 30, 'median', 3.5, -7)\n",
    "score_obj.get_all_scores()"
   ]
  },
  {
   "cell_type": "markdown",
   "metadata": {},
   "source": [
    "window = 30s; distance - 1.75m ; median > -6dB "
   ]
  },
  {
   "cell_type": "code",
   "execution_count": null,
   "metadata": {},
   "outputs": [],
   "source": [
    "score_obj = ScoreClass(plot_tag_data, 30, 'median', 1.75, -6)\n",
    "score_obj.get_all_scores()"
   ]
  },
  {
   "cell_type": "markdown",
   "metadata": {},
   "source": [
    "window = 90s; distance - 1.75m ; mean > -6dB "
   ]
  },
  {
   "cell_type": "code",
   "execution_count": null,
   "metadata": {},
   "outputs": [],
   "source": [
    "score_obj = ScoreClass(plot_tag_data, 90, 'mean', 1.75, -6)\n",
    "score_obj.get_all_scores()"
   ]
  },
  {
   "cell_type": "markdown",
   "metadata": {},
   "source": [
    "window = 90s; distance - 1.5m ; mean > -3dB "
   ]
  },
  {
   "cell_type": "code",
   "execution_count": null,
   "metadata": {},
   "outputs": [],
   "source": [
    "score_obj = ScoreClass(plot_tag_data, 90, 'mean', 1.5, -4)\n",
    "score_obj.get_all_scores()"
   ]
  },
  {
   "cell_type": "markdown",
   "metadata": {},
   "source": [
    "# Are the two devices in the same room?\n"
   ]
  },
  {
   "cell_type": "code",
   "execution_count": null,
   "metadata": {},
   "outputs": [],
   "source": [
    "measurements_same_room = all_tag_measurements.where(all_tag_measurements.obstacle == 'No Obstacle')\n",
    "measurements_same_room = measurements_same_room.dropna(how='any').reset_index(drop=True)\n",
    "\n",
    "measurements_other_room = all_tag_measurements.where(all_tag_measurements.obstacle == 'Obstacle: wall')\n",
    "measurements_other_room = measurements_other_room.dropna(how='any').reset_index(drop=True)\n",
    "\n",
    "sns.boxplot(x=all_tag_measurements[\"obstacle\"], y=all_tag_measurements[\"rssi\"], hue =all_tag_measurements[\"DisplayName\"]).set_title('All distances')"
   ]
  }
 ],
 "metadata": {
  "kernelspec": {
   "display_name": "Python 3",
   "language": "python",
   "name": "python3"
  },
  "language_info": {
   "codemirror_mode": {
    "name": "ipython",
    "version": 3
   },
   "file_extension": ".py",
   "mimetype": "text/x-python",
   "name": "python",
   "nbconvert_exporter": "python",
   "pygments_lexer": "ipython3",
   "version": "3.6.8"
  }
 },
 "nbformat": 4,
 "nbformat_minor": 2
}
