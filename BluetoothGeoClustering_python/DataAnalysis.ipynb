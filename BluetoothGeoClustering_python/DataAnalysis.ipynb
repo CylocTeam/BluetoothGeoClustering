{
 "cells": [
  {
   "cell_type": "code",
   "execution_count": 4,
   "metadata": {},
   "outputs": [],
   "source": [
    "import numpy as np\n",
    "from matplotlib import pyplot as plt\n",
    "import pandas as pd\n",
    "import seaborn as sns\n",
    "from Score import ScoreClass\n",
    "from DataFuncs import DataFuncs\n",
    "from PlotFunctions import PlotFuncs\n",
    "sns.set(style=\"darkgrid\", rc={'figure.figsize':(12,8)})\n",
    "\n",
    "import warnings\n",
    "warnings.filterwarnings(\"ignore\")"
   ]
  },
  {
   "cell_type": "markdown",
   "metadata": {},
   "source": [
    "# Enable interactive notebook"
   ]
  },
  {
   "cell_type": "code",
   "execution_count": 2,
   "metadata": {},
   "outputs": [],
   "source": [
    "%matplotlib notebook"
   ]
  },
  {
   "cell_type": "markdown",
   "metadata": {},
   "source": [
    "# Main"
   ]
  },
  {
   "cell_type": "markdown",
   "metadata": {},
   "source": [
    "\n",
    "Load Experiment data. "
   ]
  },
  {
   "cell_type": "code",
   "execution_count": 3,
   "metadata": {},
   "outputs": [],
   "source": [
    "all_tag_measurements = pd.read_pickle(r'tag_measurements_2020_03_28.pkl')\n",
    "rolling_by_2 = 1"
   ]
  },
  {
   "cell_type": "markdown",
   "metadata": {},
   "source": [
    "Load DB data"
   ]
  },
  {
   "cell_type": "code",
   "execution_count": null,
   "metadata": {},
   "outputs": [],
   "source": [
    "DB_pickle = r'\\useful_dbs\\BBIL\\tag_measurements_BBIL_all.pkl'\n",
    "all_tag_measurements = pd.read_pickle(DB_pickle)\n",
    "rolling_by_2 = 0"
   ]
  },
  {
   "cell_type": "markdown",
   "metadata": {},
   "source": [
    "# Plot window data"
   ]
  },
  {
   "cell_type": "code",
   "execution_count": 5,
   "metadata": {},
   "outputs": [],
   "source": [
    "DataFuncsObj = DataFuncs()\n",
    "all_tag_measurements = all_tag_measurements.dropna(how='any').reset_index(drop=True)\n",
    "#for not windowing data choose winsize 1 second\n",
    "win_size_seconds = 90"
   ]
  },
  {
   "cell_type": "markdown",
   "metadata": {},
   "source": [
    "Choose data to plot"
   ]
  },
  {
   "cell_type": "code",
   "execution_count": null,
   "metadata": {},
   "outputs": [],
   "source": [
    "# choose all data\n",
    "plot_tag_data = all_tag_measurements"
   ]
  },
  {
   "cell_type": "code",
   "execution_count": null,
   "metadata": {},
   "outputs": [],
   "source": [
    "# exclude specific display names\n",
    "plot_tag_data = DataFuncsObj.exclude_display_name_from_df(all_tag_measurements,'GalaxyNote4_AZer')"
   ]
  },
  {
   "cell_type": "code",
   "execution_count": 6,
   "metadata": {},
   "outputs": [
    {
     "name": "stdout",
     "output_type": "stream",
     "text": [
      "GalaxyS7_YDanan:There is no 1m distance, Therefore we use 1.125m to normalize\n",
      "RedmiNote8_OAvitan:There is no 1m distance, Therefore we use 0.5m to normalize\n"
     ]
    }
   ],
   "source": [
    "#normalized data \n",
    "norm_distance = 1 #m\n",
    "setup = 'Phone in hand'\n",
    "plot_tag_data = DataFuncsObj.normalize_by_distance(all_tag_measurements,norm_distance, setup )"
   ]
  },
  {
   "cell_type": "code",
   "execution_count": null,
   "metadata": {},
   "outputs": [],
   "source": [
    "PlotFuncsObj = PlotFuncs(plot_tag_data, win_size_seconds)"
   ]
  },
  {
   "cell_type": "markdown",
   "metadata": {},
   "source": [
    "Plot move mean"
   ]
  },
  {
   "cell_type": "code",
   "execution_count": null,
   "metadata": {
    "scrolled": false
   },
   "outputs": [],
   "source": [
    "# PlotFuncsObj.set_minor_axes_size(1)\n",
    "PlotFuncsObj.plot_data( 'mean', plot_func='boxplot',obstacle='No Obstacle', plot_hue=0,roll_by_2= rolling_by_2)\n",
    "fig1 = plt.gcf()\n",
    "# PlotFuncsObj.set_minor_axes_size(5)\n",
    "# fig1.savefig(\"mean_rssi.png\")"
   ]
  },
  {
   "cell_type": "code",
   "execution_count": null,
   "metadata": {
    "scrolled": true
   },
   "outputs": [],
   "source": [
    "PlotFuncsObj.plot_data( 'mean', plot_func='violinplot',obstacle='No Obstacle',roll_by_2= rolling_by_2)\n",
    "fig1 = plt.gcf()\n",
    "# fig1.savefig(\"mean_rssi_violinplot.png\")"
   ]
  },
  {
   "cell_type": "markdown",
   "metadata": {},
   "source": [
    "Plot move median"
   ]
  },
  {
   "cell_type": "code",
   "execution_count": null,
   "metadata": {
    "scrolled": true
   },
   "outputs": [],
   "source": [
    "PlotFuncsObj.plot_data( 'median', plot_func='boxplot',obstacle='No Obstacle',roll_by_2= rolling_by_2, plot_hue=0)\n",
    "fig1 = plt.gcf()\n",
    "fig1.savefig(\"median_rssi.png\")"
   ]
  },
  {
   "cell_type": "code",
   "execution_count": null,
   "metadata": {},
   "outputs": [],
   "source": [
    "PlotFuncsObj.plot_data( 'median', plot_func='violinplot',obstacle='No Obstacle',roll_by_2= rolling_by_2)\n",
    "fig1 = plt.gcf()\n",
    "fig1.savefig(\"median_rssi_violinplot.png\")"
   ]
  },
  {
   "cell_type": "markdown",
   "metadata": {},
   "source": [
    "Plot move variance"
   ]
  },
  {
   "cell_type": "code",
   "execution_count": null,
   "metadata": {
    "scrolled": true
   },
   "outputs": [],
   "source": [
    "PlotFuncsObj.plot_data( 'var', plot_func='boxplot',obstacle='No Obstacle',roll_by_2= rolling_by_2, plot_hue=1)\n",
    "fig1 = plt.gcf()\n",
    "# fig1.savefig(\"var_rssi.png\")"
   ]
  },
  {
   "cell_type": "markdown",
   "metadata": {},
   "source": [
    "Plot counts"
   ]
  },
  {
   "cell_type": "code",
   "execution_count": null,
   "metadata": {
    "scrolled": true
   },
   "outputs": [],
   "source": [
    "PlotFuncsObj.plot_data('count', plot_func='boxplot',obstacle='No Obstacle',roll_by_2= rolling_by_2, plot_hue=1)\n",
    "fig1 = plt.gcf()\n",
    "# fig1.savefig(\"count_rssi.png\")"
   ]
  },
  {
   "cell_type": "code",
   "execution_count": null,
   "metadata": {
    "scrolled": true
   },
   "outputs": [],
   "source": [
    "# plot violinplot to show semi distribution\n",
    "PlotFuncsObj.plot_data( 'count', plot_func='violinplot',obstacle='No Obstacle',roll_by_2= rolling_by_2, plot_hue=0)\n",
    "fig1 = plt.gcf()\n",
    "# fig1.savefig(\"count_rssi_violinplot.png\")"
   ]
  },
  {
   "cell_type": "markdown",
   "metadata": {},
   "source": [
    "Plot wanted percentile "
   ]
  },
  {
   "cell_type": "code",
   "execution_count": null,
   "metadata": {},
   "outputs": [],
   "source": [
    "wanted_percentile = 90"
   ]
  },
  {
   "cell_type": "code",
   "execution_count": null,
   "metadata": {
    "scrolled": false
   },
   "outputs": [],
   "source": [
    "# PlotFuncsObj.set_minor_axes_size(1)\n",
    "PlotFuncsObj.plot_data( 'percentile', plot_func='boxplot',obstacle='No Obstacle',roll_by_2= rolling_by_2,percent=wanted_percentile,plot_hue=0)\n",
    "fig1 = plt.gcf()\n",
    "# fig1.savefig(\"percentile_\"+str(wanted_percentile) +\"_rssi.png\")"
   ]
  },
  {
   "cell_type": "code",
   "execution_count": null,
   "metadata": {
    "scrolled": true
   },
   "outputs": [],
   "source": [
    "# plot violinplot to show semi distribution\n",
    "PlotFuncsObj.plot_data( 'percentile', plot_func='violinplot',obstacle='No Obstacle',roll_by_2= rolling_by_2,percent=wanted_percentile,plot_hue=0)\n",
    "fig1 = plt.gcf()\n",
    "# fig1.savefig(\"percentile_\"+str(wanted_percentile) +\"_rssi_violinplot.png\")"
   ]
  },
  {
   "cell_type": "markdown",
   "metadata": {},
   "source": [
    "Plot above percentile"
   ]
  },
  {
   "cell_type": "code",
   "execution_count": null,
   "metadata": {},
   "outputs": [],
   "source": [
    "wanted_percentile = 90"
   ]
  },
  {
   "cell_type": "code",
   "execution_count": null,
   "metadata": {},
   "outputs": [],
   "source": [
    "PlotFuncsObj.plot_data( 'above_percentile', plot_func='boxplot',obstacle='No Obstacle',roll_by_2= rolling_by_2,percent=wanted_percentile, margin = 0,plot_hue=1)\n",
    "fig1 = plt.gcf()\n",
    "# fig1.figure.savefig(\"above_percentile_\"+str(wanted_percentile)+\"_rssi.png\")"
   ]
  },
  {
   "cell_type": "code",
   "execution_count": null,
   "metadata": {
    "scrolled": true
   },
   "outputs": [],
   "source": [
    "PlotFuncsObj.plot_data( 'above_percentile', plot_func='violinplot',obstacle='No Obstacle',roll_by_2= rolling_by_2,percent=wanted_percentile, margin = 0,plot_hue=0)\n",
    "fig1 = plt.gcf()\n",
    "# fig1.savefig(\"above_percentile_\"+str(wanted_percentile)+\"_rssi_violinplot.png\")"
   ]
  },
  {
   "cell_type": "markdown",
   "metadata": {},
   "source": [
    "Plot counts above percentile"
   ]
  },
  {
   "cell_type": "code",
   "execution_count": null,
   "metadata": {},
   "outputs": [],
   "source": [
    "wanted_percentile = 90\n",
    "margin = 0 "
   ]
  },
  {
   "cell_type": "code",
   "execution_count": null,
   "metadata": {},
   "outputs": [],
   "source": [
    "PlotFuncsObj.plot_data( 'above_percentile_counts', plot_func='boxplot',obstacle='No Obstacle',roll_by_2= rolling_by_2,percent=wanted_percentile, margin = margin,plot_hue=1)\n",
    "fig1 = plt.gcf()\n",
    "# fig1.savefig(\"above_percentile_\"+str(wanted_percentile)+\"_rssi.png\")"
   ]
  },
  {
   "cell_type": "markdown",
   "metadata": {},
   "source": [
    "Plot difference between percentiles"
   ]
  },
  {
   "cell_type": "code",
   "execution_count": null,
   "metadata": {},
   "outputs": [],
   "source": [
    "top_percentile = 80\n",
    "bottom_percentile = 30"
   ]
  },
  {
   "cell_type": "code",
   "execution_count": null,
   "metadata": {},
   "outputs": [],
   "source": [
    "PlotFuncsObj.plot_data( 'different_between_percentiles', plot_func='boxplot',obstacle='No Obstacle',roll_by_2= rolling_by_2,top_percent=top_percentile, bottom_percent = bottom_percentile,plot_hue=1)\n",
    "fig1 = plt.gcf()\n",
    "# fig1.savefig(\"different_between_percentiles_\"+str(bottom_percentile)+\"to\"+str(top_percentile)+\"_rssi.png\")"
   ]
  },
  {
   "cell_type": "markdown",
   "metadata": {},
   "source": [
    "# Scores"
   ]
  },
  {
   "cell_type": "markdown",
   "metadata": {},
   "source": [
    "Normalized"
   ]
  },
  {
   "cell_type": "markdown",
   "metadata": {},
   "source": [
    "window = 60s; distance - 1.5m ; mean rssi > -7dB "
   ]
  },
  {
   "cell_type": "code",
   "execution_count": null,
   "metadata": {},
   "outputs": [],
   "source": [
    "score_obj = ScoreClass(plot_tag_data, 60, 'mean', 1.5, -7)\n",
    "score_obj.get_all_scores()"
   ]
  },
  {
   "cell_type": "markdown",
   "metadata": {},
   "source": [
    "window = 60s; distance - 3m ; mean rssi > -8dB "
   ]
  },
  {
   "cell_type": "code",
   "execution_count": null,
   "metadata": {},
   "outputs": [],
   "source": [
    "score_obj = ScoreClass(plot_tag_data, 60, 'mean', 3, -8)\n",
    "score_obj.get_all_scores()"
   ]
  },
  {
   "cell_type": "markdown",
   "metadata": {},
   "source": [
    "window = 60s; distance - 3.5m ; percentile 90 > -5dB "
   ]
  },
  {
   "cell_type": "code",
   "execution_count": null,
   "metadata": {},
   "outputs": [],
   "source": [
    "score_obj = ScoreClass(plot_tag_data, 60, 'percentile', 3.5, -5, percent = 90)\n",
    "score_obj.get_all_scores()"
   ]
  },
  {
   "cell_type": "markdown",
   "metadata": {},
   "source": [
    "window = 60s; distance - 2.5m ; percentile 90 > -3dB "
   ]
  },
  {
   "cell_type": "code",
   "execution_count": null,
   "metadata": {},
   "outputs": [],
   "source": [
    "score_obj = ScoreClass(plot_tag_data, 60, 'percentile', 2.5, -3, percent = 90)\n",
    "score_obj.get_all_scores()"
   ]
  },
  {
   "cell_type": "markdown",
   "metadata": {},
   "source": [
    "window = 30s; distance - 3.5m ; median > -7dB "
   ]
  },
  {
   "cell_type": "code",
   "execution_count": null,
   "metadata": {},
   "outputs": [],
   "source": [
    "score_obj = ScoreClass(plot_tag_data, 30, 'median', 3.5, -7)\n",
    "score_obj.get_all_scores()"
   ]
  },
  {
   "cell_type": "markdown",
   "metadata": {},
   "source": [
    "window = 30s; distance - 1.75m ; median > -6dB "
   ]
  },
  {
   "cell_type": "code",
   "execution_count": null,
   "metadata": {},
   "outputs": [],
   "source": [
    "score_obj = ScoreClass(plot_tag_data, 30, 'median', 1.75, -6)\n",
    "score_obj.get_all_scores()"
   ]
  },
  {
   "cell_type": "markdown",
   "metadata": {},
   "source": [
    "window = 90s; distance - 1.75m ; mean > -6dB "
   ]
  },
  {
   "cell_type": "code",
   "execution_count": null,
   "metadata": {},
   "outputs": [],
   "source": [
    "score_obj = ScoreClass(plot_tag_data, 90, 'mean', 1.75, -6)\n",
    "score_obj.get_all_scores()"
   ]
  },
  {
   "cell_type": "markdown",
   "metadata": {},
   "source": [
    "window = 90s; distance - 1.5m ; mean > -3dB "
   ]
  },
  {
   "cell_type": "code",
   "execution_count": null,
   "metadata": {},
   "outputs": [],
   "source": [
    "score_obj = ScoreClass(plot_tag_data, 90, 'mean', 1.5, -4)\n",
    "score_obj.get_all_scores()"
   ]
  },
  {
   "cell_type": "code",
   "execution_count": 7,
   "metadata": {},
   "outputs": [
    {
     "data": {
      "text/html": [
       "<div>\n",
       "<style scoped>\n",
       "    .dataframe tbody tr th:only-of-type {\n",
       "        vertical-align: middle;\n",
       "    }\n",
       "\n",
       "    .dataframe tbody tr th {\n",
       "        vertical-align: top;\n",
       "    }\n",
       "\n",
       "    .dataframe thead th {\n",
       "        text-align: right;\n",
       "    }\n",
       "</style>\n",
       "<table border=\"1\" class=\"dataframe\">\n",
       "  <thead>\n",
       "    <tr style=\"text-align: right;\">\n",
       "      <th></th>\n",
       "      <th>scannedDeviceRangingData</th>\n",
       "      <th>scannedDeviceEddystoneUid</th>\n",
       "      <th>time</th>\n",
       "      <th>rssi</th>\n",
       "      <th>DisplayName</th>\n",
       "      <th>setup</th>\n",
       "      <th>obstacle</th>\n",
       "      <th>distance</th>\n",
       "    </tr>\n",
       "  </thead>\n",
       "  <tbody>\n",
       "    <tr>\n",
       "      <th>0</th>\n",
       "      <td>-15.0</td>\n",
       "      <td>7BB8BD884D95DBBD61355606EBDA8C29</td>\n",
       "      <td>2020-03-27 15:15:38.303577000</td>\n",
       "      <td>-96.0</td>\n",
       "      <td>GalaxyS6_RCohen</td>\n",
       "      <td>Phone in front pocket</td>\n",
       "      <td>No Obstacle</td>\n",
       "      <td>0.25</td>\n",
       "    </tr>\n",
       "    <tr>\n",
       "      <th>1</th>\n",
       "      <td>-15.0</td>\n",
       "      <td>7BB8BD884D95DBBD61355606EBDA8C29</td>\n",
       "      <td>2020-03-27 15:15:44.053758500</td>\n",
       "      <td>-94.0</td>\n",
       "      <td>GalaxyS6_RCohen</td>\n",
       "      <td>Phone in front pocket</td>\n",
       "      <td>No Obstacle</td>\n",
       "      <td>0.25</td>\n",
       "    </tr>\n",
       "    <tr>\n",
       "      <th>2</th>\n",
       "      <td>-15.0</td>\n",
       "      <td>7BB8BD884D95DBBD61355606EBDA8C29</td>\n",
       "      <td>2020-03-27 15:15:44.061510700</td>\n",
       "      <td>-92.0</td>\n",
       "      <td>GalaxyS6_RCohen</td>\n",
       "      <td>Phone in front pocket</td>\n",
       "      <td>No Obstacle</td>\n",
       "      <td>0.25</td>\n",
       "    </tr>\n",
       "    <tr>\n",
       "      <th>3</th>\n",
       "      <td>-15.0</td>\n",
       "      <td>7BB8BD884D95DBBD61355606EBDA8C29</td>\n",
       "      <td>2020-03-27 15:15:49.036376300</td>\n",
       "      <td>-92.0</td>\n",
       "      <td>GalaxyS6_RCohen</td>\n",
       "      <td>Phone in front pocket</td>\n",
       "      <td>No Obstacle</td>\n",
       "      <td>0.25</td>\n",
       "    </tr>\n",
       "    <tr>\n",
       "      <th>4</th>\n",
       "      <td>-15.0</td>\n",
       "      <td>7BB8BD884D95DBBD61355606EBDA8C29</td>\n",
       "      <td>2020-03-27 15:15:54.053099800</td>\n",
       "      <td>-94.0</td>\n",
       "      <td>GalaxyS6_RCohen</td>\n",
       "      <td>Phone in front pocket</td>\n",
       "      <td>No Obstacle</td>\n",
       "      <td>0.25</td>\n",
       "    </tr>\n",
       "    <tr>\n",
       "      <th>...</th>\n",
       "      <td>...</td>\n",
       "      <td>...</td>\n",
       "      <td>...</td>\n",
       "      <td>...</td>\n",
       "      <td>...</td>\n",
       "      <td>...</td>\n",
       "      <td>...</td>\n",
       "      <td>...</td>\n",
       "    </tr>\n",
       "    <tr>\n",
       "      <th>15285</th>\n",
       "      <td>-15.0</td>\n",
       "      <td>7BB8BD884D95DBBD6135934F7D8F6851</td>\n",
       "      <td>2020-03-27 14:57:42.681812000</td>\n",
       "      <td>-84.0</td>\n",
       "      <td>RedmiNote8_OAvitan</td>\n",
       "      <td>Phone in hand</td>\n",
       "      <td>No Obstacle</td>\n",
       "      <td>0.50</td>\n",
       "    </tr>\n",
       "    <tr>\n",
       "      <th>15286</th>\n",
       "      <td>-15.0</td>\n",
       "      <td>7BB8BD884D95DBBD6135934F7D8F6851</td>\n",
       "      <td>2020-03-27 14:57:47.647012900</td>\n",
       "      <td>-77.0</td>\n",
       "      <td>RedmiNote8_OAvitan</td>\n",
       "      <td>Phone in hand</td>\n",
       "      <td>No Obstacle</td>\n",
       "      <td>0.50</td>\n",
       "    </tr>\n",
       "    <tr>\n",
       "      <th>15287</th>\n",
       "      <td>-15.0</td>\n",
       "      <td>7BB8BD884D95DBBD6135934F7D8F6851</td>\n",
       "      <td>2020-03-27 14:57:47.913092000</td>\n",
       "      <td>-78.0</td>\n",
       "      <td>RedmiNote8_OAvitan</td>\n",
       "      <td>Phone in hand</td>\n",
       "      <td>No Obstacle</td>\n",
       "      <td>0.50</td>\n",
       "    </tr>\n",
       "    <tr>\n",
       "      <th>15288</th>\n",
       "      <td>-15.0</td>\n",
       "      <td>7BB8BD884D95DBBD6135934F7D8F6851</td>\n",
       "      <td>2020-03-27 14:57:48.184900900</td>\n",
       "      <td>-78.0</td>\n",
       "      <td>RedmiNote8_OAvitan</td>\n",
       "      <td>Phone in hand</td>\n",
       "      <td>No Obstacle</td>\n",
       "      <td>0.50</td>\n",
       "    </tr>\n",
       "    <tr>\n",
       "      <th>15289</th>\n",
       "      <td>-15.0</td>\n",
       "      <td>7BB8BD884D95DBBD6135934F7D8F6851</td>\n",
       "      <td>2020-03-27 14:58:23.654196700</td>\n",
       "      <td>-87.0</td>\n",
       "      <td>RedmiNote8_OAvitan</td>\n",
       "      <td>Phone in hand</td>\n",
       "      <td>No Obstacle</td>\n",
       "      <td>0.50</td>\n",
       "    </tr>\n",
       "  </tbody>\n",
       "</table>\n",
       "<p>15290 rows × 8 columns</p>\n",
       "</div>"
      ],
      "text/plain": [
       "       scannedDeviceRangingData         scannedDeviceEddystoneUid  \\\n",
       "0                         -15.0  7BB8BD884D95DBBD61355606EBDA8C29   \n",
       "1                         -15.0  7BB8BD884D95DBBD61355606EBDA8C29   \n",
       "2                         -15.0  7BB8BD884D95DBBD61355606EBDA8C29   \n",
       "3                         -15.0  7BB8BD884D95DBBD61355606EBDA8C29   \n",
       "4                         -15.0  7BB8BD884D95DBBD61355606EBDA8C29   \n",
       "...                         ...                               ...   \n",
       "15285                     -15.0  7BB8BD884D95DBBD6135934F7D8F6851   \n",
       "15286                     -15.0  7BB8BD884D95DBBD6135934F7D8F6851   \n",
       "15287                     -15.0  7BB8BD884D95DBBD6135934F7D8F6851   \n",
       "15288                     -15.0  7BB8BD884D95DBBD6135934F7D8F6851   \n",
       "15289                     -15.0  7BB8BD884D95DBBD6135934F7D8F6851   \n",
       "\n",
       "                               time  rssi         DisplayName  \\\n",
       "0     2020-03-27 15:15:38.303577000 -96.0     GalaxyS6_RCohen   \n",
       "1     2020-03-27 15:15:44.053758500 -94.0     GalaxyS6_RCohen   \n",
       "2     2020-03-27 15:15:44.061510700 -92.0     GalaxyS6_RCohen   \n",
       "3     2020-03-27 15:15:49.036376300 -92.0     GalaxyS6_RCohen   \n",
       "4     2020-03-27 15:15:54.053099800 -94.0     GalaxyS6_RCohen   \n",
       "...                             ...   ...                 ...   \n",
       "15285 2020-03-27 14:57:42.681812000 -84.0  RedmiNote8_OAvitan   \n",
       "15286 2020-03-27 14:57:47.647012900 -77.0  RedmiNote8_OAvitan   \n",
       "15287 2020-03-27 14:57:47.913092000 -78.0  RedmiNote8_OAvitan   \n",
       "15288 2020-03-27 14:57:48.184900900 -78.0  RedmiNote8_OAvitan   \n",
       "15289 2020-03-27 14:58:23.654196700 -87.0  RedmiNote8_OAvitan   \n",
       "\n",
       "                       setup     obstacle  distance  \n",
       "0      Phone in front pocket  No Obstacle      0.25  \n",
       "1      Phone in front pocket  No Obstacle      0.25  \n",
       "2      Phone in front pocket  No Obstacle      0.25  \n",
       "3      Phone in front pocket  No Obstacle      0.25  \n",
       "4      Phone in front pocket  No Obstacle      0.25  \n",
       "...                      ...          ...       ...  \n",
       "15285          Phone in hand  No Obstacle      0.50  \n",
       "15286          Phone in hand  No Obstacle      0.50  \n",
       "15287          Phone in hand  No Obstacle      0.50  \n",
       "15288          Phone in hand  No Obstacle      0.50  \n",
       "15289          Phone in hand  No Obstacle      0.50  \n",
       "\n",
       "[15290 rows x 8 columns]"
      ]
     },
     "execution_count": 7,
     "metadata": {},
     "output_type": "execute_result"
    }
   ],
   "source": [
    "all_tag_measurements"
   ]
  },
  {
   "cell_type": "markdown",
   "metadata": {},
   "source": [
    "# Are the two devices in the same room?\n"
   ]
  },
  {
   "cell_type": "code",
   "execution_count": null,
   "metadata": {},
   "outputs": [],
   "source": [
    "measurements_same_room = all_tag_measurements.where(all_tag_measurements.obstacle == 'No Obstacle')\n",
    "measurements_same_room = measurements_same_room.dropna(how='any').reset_index(drop=True)\n",
    "\n",
    "measurements_other_room = all_tag_measurements.where(all_tag_measurements.obstacle == 'Obstacle: wall')\n",
    "measurements_other_room = measurements_other_room.dropna(how='any').reset_index(drop=True)\n",
    "\n",
    "sns.boxplot(x=all_tag_measurements[\"obstacle\"], y=all_tag_measurements[\"rssi\"], hue =all_tag_measurements[\"DisplayName\"]).set_title('All distances')"
   ]
  }
 ],
 "metadata": {
  "kernelspec": {
   "display_name": "Python 3",
   "language": "python",
   "name": "python3"
  },
  "language_info": {
   "codemirror_mode": {
    "name": "ipython",
    "version": 3
   },
   "file_extension": ".py",
   "mimetype": "text/x-python",
   "name": "python",
   "nbconvert_exporter": "python",
   "pygments_lexer": "ipython3",
   "version": "3.6.8"
  }
 },
 "nbformat": 4,
 "nbformat_minor": 2
}
