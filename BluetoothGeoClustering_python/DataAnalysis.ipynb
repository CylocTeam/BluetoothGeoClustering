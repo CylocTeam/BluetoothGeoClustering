{
 "cells": [
  {
   "cell_type": "code",
   "execution_count": null,
   "metadata": {},
   "outputs": [],
   "source": [
    "import numpy as np\n",
    "from matplotlib import pyplot as plt\n",
    "import pandas as pd\n",
    "import seaborn as sns\n",
    "from DataFuncs import DataFuncs\n",
    "from PlotFunctions import PlotFuncs\n",
    "sns.set(style=\"darkgrid\", rc={'figure.figsize':(12,8)})"
   ]
  },
  {
   "cell_type": "markdown",
   "metadata": {},
   "source": [
    "# Enable interactive notebook"
   ]
  },
  {
   "cell_type": "code",
   "execution_count": null,
   "metadata": {},
   "outputs": [],
   "source": [
    "%matplotlib notebook"
   ]
  },
  {
   "cell_type": "markdown",
   "metadata": {},
   "source": [
    "# Main"
   ]
  },
  {
   "cell_type": "markdown",
   "metadata": {},
   "source": [
    "\n",
    "Load Experiment data. "
   ]
  },
  {
   "cell_type": "code",
   "execution_count": null,
   "metadata": {},
   "outputs": [],
   "source": [
    "DataFuncsObj = DataFuncs()\n",
    "all_tag_measurements = pd.read_pickle(r'tag_measurements_2020_03_28.pkl')\n",
    "all_tag_measurements = all_tag_measurements.dropna(how='any').reset_index(drop=True)"
   ]
  },
  {
   "cell_type": "markdown",
   "metadata": {},
   "source": [
    "# Plots without windowing"
   ]
  },
  {
   "cell_type": "code",
   "execution_count": null,
   "metadata": {
    "scrolled": true
   },
   "outputs": [],
   "source": [
    "# pd.unique(all_tag_measurements.obstacle)\n",
    "obstacle = 'No Obstacle'\n",
    "show_measurements = all_tag_measurements.where(all_tag_measurements.obstacle == obstacle)\n",
    "show_measurements = show_measurements.dropna(how='any').reset_index(drop=True)"
   ]
  },
  {
   "cell_type": "code",
   "execution_count": null,
   "metadata": {},
   "outputs": [],
   "source": [
    "plt.figure()\n",
    "ax = sns.boxplot(x=np.round(show_measurements[\"distance\"]*4)/4, y=show_measurements[\"rssi\"], hue =show_measurements[\"DisplayName\"] ).set_title(obstacle + \" - All setups\")\n",
    "# plt.figure()\n",
    "# ax = sns.boxplot(x=np.round(show_measurements[\"distance\"]*4)/4, y=show_measurements[\"rssi\"] ).set_title(obstacle + \" - All setups\")"
   ]
  },
  {
   "cell_type": "markdown",
   "metadata": {},
   "source": [
    "boxolot for each setup"
   ]
  },
  {
   "cell_type": "code",
   "execution_count": null,
   "metadata": {
    "scrolled": true
   },
   "outputs": [],
   "source": [
    "# pd.unique(show_measurements.setup)\n",
    "for setup in pd.unique(show_measurements.setup):\n",
    "    setup_measurements = show_measurements.where(show_measurements.setup == setup)\n",
    "    title_str = str(obstacle) + \" - \" + str(setup)\n",
    "    plt.figure()\n",
    "#     color by display name\n",
    "#     sns.boxplot(x=np.round(setup_measurements[\"distance\"]*4)/4, y=setup_measurements[\"rssi\"], hue =setup_measurements[\"DisplayName\"]) .set_title(title_str)\n",
    "#     all devices united\n",
    "    sns.boxplot(x=np.round(setup_measurements[\"distance\"]*4)/4, y=setup_measurements[\"rssi\"]) .set_title(title_str)\n",
    "    plt.show()"
   ]
  },
  {
   "cell_type": "markdown",
   "metadata": {},
   "source": [
    "# Plot window data"
   ]
  },
  {
   "cell_type": "code",
   "execution_count": null,
   "metadata": {},
   "outputs": [],
   "source": [
    "win_size_seconds = 60"
   ]
  },
  {
   "cell_type": "markdown",
   "metadata": {},
   "source": [
    "Choose data to plot"
   ]
  },
  {
   "cell_type": "code",
   "execution_count": null,
   "metadata": {},
   "outputs": [],
   "source": [
    "# choose all data\n",
    "plot_tag_data = all_tag_measurements"
   ]
  },
  {
   "cell_type": "code",
   "execution_count": null,
   "metadata": {},
   "outputs": [],
   "source": [
    "# exclude specific display names\n",
    "plot_tag_data = DataFuncsObj.exclude_display_name_from_df(all_tag_measurements,'GalaxyNote4_AZer')"
   ]
  },
  {
   "cell_type": "code",
   "execution_count": null,
   "metadata": {},
   "outputs": [],
   "source": [
    "#normalized data \n",
    "norm_distance = 1 #m\n",
    "setup = 'Phone in hand'\n",
    "plot_tag_data = DataFuncsObj.normalize_by_distance(all_tag_measurements,norm_distance, setup )"
   ]
  },
  {
   "cell_type": "code",
   "execution_count": null,
   "metadata": {},
   "outputs": [],
   "source": [
    "PlotFuncsObj = PlotFuncs(plot_tag_data, win_size_seconds)"
   ]
  },
  {
   "cell_type": "markdown",
   "metadata": {},
   "source": [
    "Plot move mean"
   ]
  },
  {
   "cell_type": "code",
   "execution_count": null,
   "metadata": {
    "scrolled": false
   },
   "outputs": [],
   "source": [
    "# PlotFuncsObj.set_minor_axes_size(1)\n",
    "PlotFuncsObj.plot_data( 'mean', plot_func='boxplot',obstacle='No Obstacle', plot_hue=1)\n",
    "fig1 = plt.gcf()\n",
    "# PlotFuncsObj.set_minor_axes_size(5)\n",
    "# fig1.savefig(\"mean_rssi.png\")"
   ]
  },
  {
   "cell_type": "code",
   "execution_count": null,
   "metadata": {
    "scrolled": true
   },
   "outputs": [],
   "source": [
    "PlotFuncsObj.plot_data( 'mean', plot_func='violinplot',obstacle='No Obstacle')\n",
    "fig1 = plt.gcf()\n",
    "# fig1.savefig(\"mean_rssi_violinplot.png\")"
   ]
  },
  {
   "cell_type": "markdown",
   "metadata": {},
   "source": [
    "Plot move median"
   ]
  },
  {
   "cell_type": "code",
   "execution_count": null,
   "metadata": {},
   "outputs": [],
   "source": [
    "PlotFuncsObj.plot_data( 'median', plot_func='boxplot',obstacle='No Obstacle', plot_hue=1)\n",
    "fig1 = plt.gcf()\n",
    "fig1.savefig(\"median_rssi.png\")"
   ]
  },
  {
   "cell_type": "code",
   "execution_count": null,
   "metadata": {},
   "outputs": [],
   "source": [
    "PlotFuncsObj.plot_data( 'median', plot_func='violinplot',obstacle='No Obstacle')\n",
    "fig1 = plt.gcf()\n",
    "fig1.savefig(\"median_rssi_violinplot.png\")"
   ]
  },
  {
   "cell_type": "markdown",
   "metadata": {},
   "source": [
    "Plot move variance"
   ]
  },
  {
   "cell_type": "code",
   "execution_count": null,
   "metadata": {
    "scrolled": true
   },
   "outputs": [],
   "source": [
    "PlotFuncsObj.plot_data( 'var', plot_func='boxplot',obstacle='No Obstacle', plot_hue=1)\n",
    "fig1 = plt.gcf()\n",
    "# fig1.savefig(\"var_rssi.png\")"
   ]
  },
  {
   "cell_type": "markdown",
   "metadata": {},
   "source": [
    "Plot counts"
   ]
  },
  {
   "cell_type": "code",
   "execution_count": null,
   "metadata": {
    "scrolled": true
   },
   "outputs": [],
   "source": [
    "PlotFuncsObj.plot_data('count', plot_func='boxplot',obstacle='No Obstacle', plot_hue=1)\n",
    "fig1 = plt.gcf()\n",
    "# fig1.savefig(\"count_rssi.png\")"
   ]
  },
  {
   "cell_type": "code",
   "execution_count": null,
   "metadata": {
    "scrolled": true
   },
   "outputs": [],
   "source": [
    "# plot violinplot to show semi distribution\n",
    "PlotFuncsObj.plot_data( 'count', plot_func='violinplot',obstacle='No Obstacle', plot_hue=0)\n",
    "fig1 = plt.gcf()\n",
    "# fig1.savefig(\"count_rssi_violinplot.png\")"
   ]
  },
  {
   "cell_type": "markdown",
   "metadata": {},
   "source": [
    "Plot wanted percentile "
   ]
  },
  {
   "cell_type": "code",
   "execution_count": null,
   "metadata": {},
   "outputs": [],
   "source": [
    "wanted_percentile = 90"
   ]
  },
  {
   "cell_type": "code",
   "execution_count": null,
   "metadata": {
    "scrolled": false
   },
   "outputs": [],
   "source": [
    "# PlotFuncsObj.set_minor_axes_size(1)\n",
    "PlotFuncsObj.plot_data( 'percentile', plot_func='boxplot',obstacle='No Obstacle',percent=wanted_percentile,plot_hue=1)\n",
    "fig1 = plt.gcf()\n",
    "# fig1.savefig(\"percentile_\"+str(wanted_percentile) +\"_rssi.png\")"
   ]
  },
  {
   "cell_type": "code",
   "execution_count": null,
   "metadata": {
    "scrolled": true
   },
   "outputs": [],
   "source": [
    "# plot violinplot to show semi distribution\n",
    "PlotFuncsObj.plot_data( 'percentile', plot_func='violinplot',obstacle='No Obstacle',percent=wanted_percentile,plot_hue=0)\n",
    "fig1 = plt.gcf()\n",
    "# fig1.savefig(\"percentile_\"+str(wanted_percentile) +\"_rssi_violinplot.png\")"
   ]
  },
  {
   "cell_type": "markdown",
   "metadata": {},
   "source": [
    "Plot above percentile"
   ]
  },
  {
   "cell_type": "code",
   "execution_count": null,
   "metadata": {},
   "outputs": [],
   "source": [
    "wanted_percentile = 70"
   ]
  },
  {
   "cell_type": "code",
   "execution_count": null,
   "metadata": {},
   "outputs": [],
   "source": [
    "PlotFuncsObj.plot_data( 'above_percentile', plot_func='boxplot',obstacle='No Obstacle',percent=wanted_percentile, margin = 0,plot_hue=1)\n",
    "fig1 = plt.gcf()\n",
    "# fig1.figure.savefig(\"above_percentile_\"+str(wanted_percentile)+\"_rssi.png\")"
   ]
  },
  {
   "cell_type": "code",
   "execution_count": null,
   "metadata": {
    "scrolled": true
   },
   "outputs": [],
   "source": [
    "PlotFuncsObj.plot_data( 'above_percentile', plot_func='violinplot',obstacle='No Obstacle',percent=wanted_percentile, margin = 0,plot_hue=0)\n",
    "fig1 = plt.gcf()\n",
    "# fig1.savefig(\"above_percentile_\"+str(wanted_percentile)+\"_rssi_violinplot.png\")"
   ]
  },
  {
   "cell_type": "markdown",
   "metadata": {},
   "source": [
    "Plot counts above percentile"
   ]
  },
  {
   "cell_type": "code",
   "execution_count": null,
   "metadata": {},
   "outputs": [],
   "source": [
    "wanted_percentile = 85\n",
    "margin = 1  "
   ]
  },
  {
   "cell_type": "code",
   "execution_count": null,
   "metadata": {},
   "outputs": [],
   "source": [
    "PlotFuncsObj.plot_data( 'above_percentile_counts', plot_func='boxplot',obstacle='No Obstacle',percent=wanted_percentile, margin = margin,plot_hue=1)\n",
    "fig1 = plt.gcf()\n",
    "# fig1.savefig(\"above_percentile_\"+str(wanted_percentile)+\"_rssi.png\")"
   ]
  },
  {
   "cell_type": "markdown",
   "metadata": {},
   "source": [
    "# Scores"
   ]
  },
  {
   "cell_type": "markdown",
   "metadata": {},
   "source": [
    "Normalized"
   ]
  },
  {
   "cell_type": "markdown",
   "metadata": {},
   "source": [
    "window = 60s; distance - 1.5m ; mean rssi > -7dB "
   ]
  },
  {
   "cell_type": "code",
   "execution_count": null,
   "metadata": {},
   "outputs": [],
   "source": [
    "score_obj = ScoreClass(all_tag_measurements, 60, 'mean', 1.5, -7)"
   ]
  },
  {
   "cell_type": "markdown",
   "metadata": {},
   "source": [
    "window = 60s; distance - 3m ; mean rssi > -8dB "
   ]
  },
  {
   "cell_type": "code",
   "execution_count": null,
   "metadata": {},
   "outputs": [],
   "source": [
    "score_obj = ScoreClass(all_tag_measurements, 60, 'mean', 3, -8)"
   ]
  },
  {
   "cell_type": "markdown",
   "metadata": {},
   "source": [
    "window = 60s; distance - 3.5m ; percentile 90 > -5dB "
   ]
  },
  {
   "cell_type": "code",
   "execution_count": null,
   "metadata": {},
   "outputs": [],
   "source": [
    "score_obj = ScoreClass(all_tag_measurements, 60, 'percentile', 3.5, -5, percent = 90)"
   ]
  },
  {
   "cell_type": "markdown",
   "metadata": {},
   "source": [
    "window = 60s; distance - 2.5m ; percentile 90 > -3dB "
   ]
  },
  {
   "cell_type": "code",
   "execution_count": null,
   "metadata": {},
   "outputs": [],
   "source": [
    "score_obj = ScoreClass(all_tag_measurements, 60, 'percentile', 2.5, -3, percent = 90)"
   ]
  },
  {
   "cell_type": "markdown",
   "metadata": {},
   "source": []
  },
  {
   "cell_type": "code",
   "execution_count": null,
   "metadata": {},
   "outputs": [],
   "source": []
  },
  {
   "cell_type": "code",
   "execution_count": null,
   "metadata": {},
   "outputs": [],
   "source": []
  },
  {
   "cell_type": "markdown",
   "metadata": {},
   "source": [
    "# Are the two devices in the same room?\n"
   ]
  },
  {
   "cell_type": "code",
   "execution_count": null,
   "metadata": {},
   "outputs": [],
   "source": [
    "measurements_same_room = all_tag_measurements.where(all_tag_measurements.obstacle == 'No Obstacle')\n",
    "measurements_same_room = measurements_same_room.dropna(how='any').reset_index(drop=True)\n",
    "\n",
    "measurements_other_room = all_tag_measurements.where(all_tag_measurements.obstacle == 'Obstacle: wall')\n",
    "measurements_other_room = measurements_other_room.dropna(how='any').reset_index(drop=True)\n",
    "\n",
    "sns.boxplot(x=all_tag_measurements[\"obstacle\"], y=all_tag_measurements[\"rssi\"], hue =all_tag_measurements[\"DisplayName\"]).set_title('All distances')"
   ]
  }
 ],
 "metadata": {
  "kernelspec": {
   "display_name": "Python 3",
   "language": "python",
   "name": "python3"
  },
  "language_info": {
   "codemirror_mode": {
    "name": "ipython",
    "version": 3
   },
   "file_extension": ".py",
   "mimetype": "text/x-python",
   "name": "python",
   "nbconvert_exporter": "python",
   "pygments_lexer": "ipython3",
   "version": "3.6.8"
  }
 },
 "nbformat": 4,
 "nbformat_minor": 2
}
