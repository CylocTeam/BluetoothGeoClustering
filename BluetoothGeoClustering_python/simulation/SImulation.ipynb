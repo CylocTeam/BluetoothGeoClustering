{
 "cells": [
  {
   "cell_type": "code",
   "execution_count": 2,
   "metadata": {},
   "outputs": [],
   "source": [
    "import numpy\n",
    "import numpy as np\n",
    "from matplotlib import pyplot as plt\n",
    "import pandas as pd\n",
    "import sys\n",
    "sys.path.insert(0,'..')\n",
    "import warnings\n",
    "warnings.filterwarnings(\"ignore\")\n",
    "from DataFuncs import DataFuncs "
   ]
  },
  {
   "cell_type": "code",
   "execution_count": 3,
   "metadata": {},
   "outputs": [],
   "source": [
    "DB_pickle = r'../useful_dbs/BBIL/tag_measurements_BBIL_all.pkl'\n",
    "all_tag_measurements = pd.read_pickle(DB_pickle) \n",
    "res_meter = 0.25 #m\n",
    "norm_distance = 1 #m\n",
    "res_norm = res_meter"
   ]
  },
  {
   "cell_type": "code",
   "execution_count": 15,
   "metadata": {},
   "outputs": [],
   "source": [
    "def start_pipe(df):\n",
    "    return df.copy() \n",
    "\n",
    "def round_distance(df, res):\n",
    "    df['round_distance'] = np.round(df[\"distance\"] * res_meter) / res_meter\n",
    "    return df\n",
    "\n",
    "def rssi_not_db(df):\n",
    "    df['rssi_not_db'] = np.power(10, df['rssi']/10)\n",
    "    return df\n",
    "    \n",
    "\n",
    "def agg_funcs_each_distance(df):\n",
    "    grouped = df.groupby('round_distance')\n",
    "    simulation_params = grouped['normalized_rssi'].agg([np.mean , np.var , np.ma.count])\n",
    "    return simulation_params\n",
    "\n",
    "def normalized_rssi_not_db(df, norm_distance, res_norm):\n",
    "    round_distance = np.round(df[\"distance\"] * res_norm) / res_norm\n",
    "    mean_rssi = np.mean(df['rssi_not_db'].loc[round_distance == norm_distance])\n",
    "    df['normalized_rssi'] = df['rssi_not_db'] - mean_rssi\n",
    "    return df\n",
    "    \n",
    "\n",
    "simulation_data = (all_tag_measurements.pipe(start_pipe)\n",
    "                   .pipe(rssi_not_db)\n",
    "                   .pipe(normalized_rssi_not_db, norm_distance, res_norm)\n",
    "                   .pipe(round_distance,res_meter)\n",
    "                   .pipe(agg_funcs_each_distance))\n",
    "    \n",
    "\n",
    "\n",
    "    "
   ]
  },
  {
   "cell_type": "code",
   "execution_count": 16,
   "metadata": {},
   "outputs": [
    {
     "data": {
      "text/html": [
       "<div>\n",
       "<style scoped>\n",
       "    .dataframe tbody tr th:only-of-type {\n",
       "        vertical-align: middle;\n",
       "    }\n",
       "\n",
       "    .dataframe tbody tr th {\n",
       "        vertical-align: top;\n",
       "    }\n",
       "\n",
       "    .dataframe thead th {\n",
       "        text-align: right;\n",
       "    }\n",
       "</style>\n",
       "<table border=\"1\" class=\"dataframe\">\n",
       "  <thead>\n",
       "    <tr style=\"text-align: right;\">\n",
       "      <th></th>\n",
       "      <th>mean</th>\n",
       "      <th>var</th>\n",
       "      <th>count</th>\n",
       "    </tr>\n",
       "    <tr>\n",
       "      <th>round_distance</th>\n",
       "      <th></th>\n",
       "      <th></th>\n",
       "      <th></th>\n",
       "    </tr>\n",
       "  </thead>\n",
       "  <tbody>\n",
       "    <tr>\n",
       "      <th>0.0</th>\n",
       "      <td>NaN</td>\n",
       "      <td>NaN</td>\n",
       "      <td>18737.0</td>\n",
       "    </tr>\n",
       "    <tr>\n",
       "      <th>4.0</th>\n",
       "      <td>NaN</td>\n",
       "      <td>NaN</td>\n",
       "      <td>133299.0</td>\n",
       "    </tr>\n",
       "    <tr>\n",
       "      <th>8.0</th>\n",
       "      <td>NaN</td>\n",
       "      <td>NaN</td>\n",
       "      <td>140676.0</td>\n",
       "    </tr>\n",
       "    <tr>\n",
       "      <th>12.0</th>\n",
       "      <td>NaN</td>\n",
       "      <td>NaN</td>\n",
       "      <td>60682.0</td>\n",
       "    </tr>\n",
       "    <tr>\n",
       "      <th>16.0</th>\n",
       "      <td>NaN</td>\n",
       "      <td>NaN</td>\n",
       "      <td>39817.0</td>\n",
       "    </tr>\n",
       "    <tr>\n",
       "      <th>20.0</th>\n",
       "      <td>NaN</td>\n",
       "      <td>NaN</td>\n",
       "      <td>32855.0</td>\n",
       "    </tr>\n",
       "    <tr>\n",
       "      <th>24.0</th>\n",
       "      <td>NaN</td>\n",
       "      <td>NaN</td>\n",
       "      <td>17752.0</td>\n",
       "    </tr>\n",
       "  </tbody>\n",
       "</table>\n",
       "</div>"
      ],
      "text/plain": [
       "                mean  var     count\n",
       "round_distance                     \n",
       "0.0              NaN  NaN   18737.0\n",
       "4.0              NaN  NaN  133299.0\n",
       "8.0              NaN  NaN  140676.0\n",
       "12.0             NaN  NaN   60682.0\n",
       "16.0             NaN  NaN   39817.0\n",
       "20.0             NaN  NaN   32855.0\n",
       "24.0             NaN  NaN   17752.0"
      ]
     },
     "execution_count": 16,
     "metadata": {},
     "output_type": "execute_result"
    }
   ],
   "source": [
    "simulation_data"
   ]
  },
  {
   "cell_type": "code",
   "execution_count": null,
   "metadata": {},
   "outputs": [],
   "source": []
  },
  {
   "cell_type": "code",
   "execution_count": null,
   "metadata": {},
   "outputs": [],
   "source": []
  }
 ],
 "metadata": {
  "kernelspec": {
   "display_name": "Python 3",
   "language": "python",
   "name": "python3"
  },
  "language_info": {
   "codemirror_mode": {
    "name": "ipython",
    "version": 3
   },
   "file_extension": ".py",
   "mimetype": "text/x-python",
   "name": "python",
   "nbconvert_exporter": "python",
   "pygments_lexer": "ipython3",
   "version": "3.6.8"
  }
 },
 "nbformat": 4,
 "nbformat_minor": 4
}
