{
 "cells": [
  {
   "cell_type": "code",
   "execution_count": 1,
   "metadata": {
    "colab": {},
    "colab_type": "code",
    "id": "1X0YVEfF8X2_"
   },
   "outputs": [],
   "source": [
    "import pandas as pd\n",
    "import seaborn as sns\n",
    "import requests\n",
    "sns.set(style=\"darkgrid\")"
   ]
  },
  {
   "cell_type": "markdown",
   "metadata": {},
   "source": [
    "## define functions"
   ]
  },
  {
   "cell_type": "code",
   "execution_count": 2,
   "metadata": {
    "colab": {},
    "colab_type": "code",
    "id": "8CoiHvyw8tWn"
   },
   "outputs": [],
   "source": [
    "def url2df(url):\n",
    "  f = requests.get(url)\n",
    "  df = pd.read_json(f.text)\n",
    "  df.scannedDevicesMinTimestamp= pd.to_datetime(df.scannedDevicesMinTimestamp)\n",
    "  df.scannedDevicesMaxTimestamp= pd.to_datetime(df.scannedDevicesMaxTimestamp)\n",
    "  df = df.rename(columns={'scannedDevicesMinTimestamp': 'scannedDevicesMinUTC',\n",
    "                    'scannedDevicesMaxTimestamp': 'scannedDevicesMaxUTC'})\n",
    "  df = df.sort_values(\"scannedDevicesMaxUTC\") # sorting by last time!\n",
    "  return df"
   ]
  },
  {
   "cell_type": "code",
   "execution_count": 3,
   "metadata": {
    "colab": {},
    "colab_type": "code",
    "id": "_AYPDCoODiC8"
   },
   "outputs": [],
   "source": [
    "def scannedDevices2df(scannedDevices):\n",
    "  df = pd.json_normalize(scannedDevices)\n",
    "  df.timestamp= pd.to_datetime(df.timestamp)\n",
    "  df = df.rename(columns={'timestamp': 'timeUTC'})\n",
    "  df = df.sort_values(\"timeUTC\")\n",
    "  return df"
   ]
  },
  {
   "cell_type": "code",
   "execution_count": 4,
   "metadata": {},
   "outputs": [],
   "source": [
    "def allScannedDevicesInTime(df, rel_time, window_size_minutes=0):\n",
    "# rel_time = pd.to_datetime(\"2020-03-25 13:00:00\")\n",
    "    time_window = pd.offsets.Minute(window_size_minutes)\n",
    "    mask = (df.scannedDevicesMinUTC <= rel_time+time_window) & (df.scannedDevicesMaxUTC >= rel_time-time_window)\n",
    "    sd = pd.DataFrame()\n",
    "    for row in df[mask].index:\n",
    "        sd_new = scannedDevices2df(df.scannedDevices[row])\n",
    "        sd = pd.concat([sd, sd_new], ignore_index=True)\n",
    "    return sd"
   ]
  },
  {
   "cell_type": "markdown",
   "metadata": {},
   "source": [
    "## access raw data"
   ]
  },
  {
   "cell_type": "markdown",
   "metadata": {},
   "source": [
    "#### Jonatan's Pocophone"
   ]
  },
  {
   "cell_type": "code",
   "execution_count": 6,
   "metadata": {
    "colab": {
     "base_uri": "https://localhost:8080/",
     "height": 279
    },
    "colab_type": "code",
    "id": "kNTc0pNr8lrQ",
    "outputId": "f0bc8c1f-d1fe-4968-dfcb-9cf4f418c564"
   },
   "outputs": [
    {
     "data": {
      "text/html": [
       "<div>\n",
       "<style scoped>\n",
       "    .dataframe tbody tr th:only-of-type {\n",
       "        vertical-align: middle;\n",
       "    }\n",
       "\n",
       "    .dataframe tbody tr th {\n",
       "        vertical-align: top;\n",
       "    }\n",
       "\n",
       "    .dataframe thead th {\n",
       "        text-align: right;\n",
       "    }\n",
       "</style>\n",
       "<table border=\"1\" class=\"dataframe\">\n",
       "  <thead>\n",
       "    <tr style=\"text-align: right;\">\n",
       "      <th></th>\n",
       "      <th>device_seen_set</th>\n",
       "      <th>scannedDevicesMinUTC</th>\n",
       "      <th>scannedDevices</th>\n",
       "      <th>scannedDevicesMaxUTC</th>\n",
       "      <th>scanningDeviceEddystoneUid</th>\n",
       "    </tr>\n",
       "  </thead>\n",
       "  <tbody>\n",
       "    <tr>\n",
       "      <th>3</th>\n",
       "      <td>[7BB8BD884D95DBBD613588BD06DA4164, 7BB8BD884D9...</td>\n",
       "      <td>2020-03-25 14:14:25.754478800</td>\n",
       "      <td>[{'rssi': -78, 'scannedDeviceRangingData': -15...</td>\n",
       "      <td>2020-03-25 14:17:10.484300000</td>\n",
       "      <td>7BB8BD884D95DBBD613526BE32778B20</td>\n",
       "    </tr>\n",
       "    <tr>\n",
       "      <th>11</th>\n",
       "      <td>[7BB8BD884D95DBBD613588BD06DA4164, 7BB8BD884D9...</td>\n",
       "      <td>2020-03-25 14:02:46.142586600</td>\n",
       "      <td>[{'rssi': -72, 'scannedDeviceRangingData': -15...</td>\n",
       "      <td>2020-03-25 14:17:10.484450300</td>\n",
       "      <td>7BB8BD884D95DBBD613526BE32778B20</td>\n",
       "    </tr>\n",
       "    <tr>\n",
       "      <th>10</th>\n",
       "      <td>[7BB8BD884D95DBBD613588BD06DA4164, 7BB8BD884D9...</td>\n",
       "      <td>2020-03-25 14:26:49.949664300</td>\n",
       "      <td>[{'rssi': -53, 'scannedDeviceRangingData': -15...</td>\n",
       "      <td>2020-03-25 14:28:59.289772500</td>\n",
       "      <td>7BB8BD884D95DBBD613526BE32778B20</td>\n",
       "    </tr>\n",
       "    <tr>\n",
       "      <th>16</th>\n",
       "      <td>[7BB8BD884D95DBBD613588BD06DA4164, 7BB8BD884D9...</td>\n",
       "      <td>2020-03-25 14:27:34.617214700</td>\n",
       "      <td>[{'rssi': -78, 'scannedDeviceRangingData': -15...</td>\n",
       "      <td>2020-03-25 14:28:59.290272800</td>\n",
       "      <td>7BB8BD884D95DBBD613526BE32778B20</td>\n",
       "    </tr>\n",
       "    <tr>\n",
       "      <th>6</th>\n",
       "      <td>[7BB8BD884D95DBBD613588BD06DA4164, 7BB8BD884D9...</td>\n",
       "      <td>2020-03-25 14:27:41.768124700</td>\n",
       "      <td>[{'rssi': -47, 'scannedDeviceRangingData': -15...</td>\n",
       "      <td>2020-03-25 14:28:59.290964700</td>\n",
       "      <td>7BB8BD884D95DBBD613526BE32778B20</td>\n",
       "    </tr>\n",
       "  </tbody>\n",
       "</table>\n",
       "</div>"
      ],
      "text/plain": [
       "                                      device_seen_set  \\\n",
       "3   [7BB8BD884D95DBBD613588BD06DA4164, 7BB8BD884D9...   \n",
       "11  [7BB8BD884D95DBBD613588BD06DA4164, 7BB8BD884D9...   \n",
       "10  [7BB8BD884D95DBBD613588BD06DA4164, 7BB8BD884D9...   \n",
       "16  [7BB8BD884D95DBBD613588BD06DA4164, 7BB8BD884D9...   \n",
       "6   [7BB8BD884D95DBBD613588BD06DA4164, 7BB8BD884D9...   \n",
       "\n",
       "            scannedDevicesMinUTC  \\\n",
       "3  2020-03-25 14:14:25.754478800   \n",
       "11 2020-03-25 14:02:46.142586600   \n",
       "10 2020-03-25 14:26:49.949664300   \n",
       "16 2020-03-25 14:27:34.617214700   \n",
       "6  2020-03-25 14:27:41.768124700   \n",
       "\n",
       "                                       scannedDevices  \\\n",
       "3   [{'rssi': -78, 'scannedDeviceRangingData': -15...   \n",
       "11  [{'rssi': -72, 'scannedDeviceRangingData': -15...   \n",
       "10  [{'rssi': -53, 'scannedDeviceRangingData': -15...   \n",
       "16  [{'rssi': -78, 'scannedDeviceRangingData': -15...   \n",
       "6   [{'rssi': -47, 'scannedDeviceRangingData': -15...   \n",
       "\n",
       "            scannedDevicesMaxUTC        scanningDeviceEddystoneUid  \n",
       "3  2020-03-25 14:17:10.484300000  7BB8BD884D95DBBD613526BE32778B20  \n",
       "11 2020-03-25 14:17:10.484450300  7BB8BD884D95DBBD613526BE32778B20  \n",
       "10 2020-03-25 14:28:59.289772500  7BB8BD884D95DBBD613526BE32778B20  \n",
       "16 2020-03-25 14:28:59.290272800  7BB8BD884D95DBBD613526BE32778B20  \n",
       "6  2020-03-25 14:28:59.290964700  7BB8BD884D95DBBD613526BE32778B20  "
      ]
     },
     "execution_count": 6,
     "metadata": {},
     "output_type": "execute_result"
    }
   ],
   "source": [
    "url1 = \"https://us-central1-social-protection-46da6.cloudfunctions.net/getDeviceScans?device_id=7BB8BD884D95DBBD613526BE32778B20\"\n",
    "df1 = url2df(url=url1)\n",
    "df1.tail()"
   ]
  },
  {
   "cell_type": "markdown",
   "metadata": {},
   "source": [
    "#### Dor's OnePlus6"
   ]
  },
  {
   "cell_type": "code",
   "execution_count": 7,
   "metadata": {
    "colab": {
     "base_uri": "https://localhost:8080/",
     "height": 279
    },
    "colab_type": "code",
    "id": "_EdWcm-g_VOf",
    "outputId": "2b533aa1-6b29-425f-8915-d6ba801584d4"
   },
   "outputs": [
    {
     "data": {
      "text/html": [
       "<div>\n",
       "<style scoped>\n",
       "    .dataframe tbody tr th:only-of-type {\n",
       "        vertical-align: middle;\n",
       "    }\n",
       "\n",
       "    .dataframe tbody tr th {\n",
       "        vertical-align: top;\n",
       "    }\n",
       "\n",
       "    .dataframe thead th {\n",
       "        text-align: right;\n",
       "    }\n",
       "</style>\n",
       "<table border=\"1\" class=\"dataframe\">\n",
       "  <thead>\n",
       "    <tr style=\"text-align: right;\">\n",
       "      <th></th>\n",
       "      <th>device_seen_set</th>\n",
       "      <th>scannedDevicesMinUTC</th>\n",
       "      <th>scannedDevices</th>\n",
       "      <th>scannedDevicesMaxUTC</th>\n",
       "      <th>scanningDeviceEddystoneUid</th>\n",
       "    </tr>\n",
       "  </thead>\n",
       "  <tbody>\n",
       "    <tr>\n",
       "      <th>7</th>\n",
       "      <td>[7BB8BD884D95DBBD613526BE32778B20, 7BB8BD884D9...</td>\n",
       "      <td>2020-03-25 14:15:04.812595000</td>\n",
       "      <td>[{'scannedDeviceRangingData': -15, 'scannedDev...</td>\n",
       "      <td>2020-03-25 15:02:59.009854500</td>\n",
       "      <td>7BB8BD884D95DBBD613588BD06DA4164</td>\n",
       "    </tr>\n",
       "    <tr>\n",
       "      <th>12</th>\n",
       "      <td>[7BB8BD884D95DBBD613526BE32778B20, 7BB8BD884D9...</td>\n",
       "      <td>2020-03-25 14:15:12.818662000</td>\n",
       "      <td>[{'scannedDeviceRangingData': -15, 'scannedDev...</td>\n",
       "      <td>2020-03-25 15:04:17.381249500</td>\n",
       "      <td>7BB8BD884D95DBBD613588BD06DA4164</td>\n",
       "    </tr>\n",
       "    <tr>\n",
       "      <th>6</th>\n",
       "      <td>[7BB8BD884D95DBBD613526BE32778B20, 7BB8BD884D9...</td>\n",
       "      <td>2020-03-25 14:15:12.819116800</td>\n",
       "      <td>[{'scannedDeviceRangingData': -15, 'scannedDev...</td>\n",
       "      <td>2020-03-25 15:04:26.782329000</td>\n",
       "      <td>7BB8BD884D95DBBD613588BD06DA4164</td>\n",
       "    </tr>\n",
       "    <tr>\n",
       "      <th>5</th>\n",
       "      <td>[7BB8BD884D95DBBD613526BE32778B20, 7BB8BD884D9...</td>\n",
       "      <td>2020-03-25 14:15:23.417185500</td>\n",
       "      <td>[{'scannedDeviceRangingData': -15, 'scannedDev...</td>\n",
       "      <td>2020-03-25 15:05:28.128764700</td>\n",
       "      <td>7BB8BD884D95DBBD613588BD06DA4164</td>\n",
       "    </tr>\n",
       "    <tr>\n",
       "      <th>3</th>\n",
       "      <td>[7BB8BD884D95DBBD613526BE32778B20, 7BB8BD884D9...</td>\n",
       "      <td>2020-03-25 15:19:03.342868500</td>\n",
       "      <td>[{'rssi': -83, 'scannedDeviceRangingData': -15...</td>\n",
       "      <td>2020-03-25 15:51:02.361047300</td>\n",
       "      <td>7BB8BD884D95DBBD613588BD06DA4164</td>\n",
       "    </tr>\n",
       "  </tbody>\n",
       "</table>\n",
       "</div>"
      ],
      "text/plain": [
       "                                      device_seen_set  \\\n",
       "7   [7BB8BD884D95DBBD613526BE32778B20, 7BB8BD884D9...   \n",
       "12  [7BB8BD884D95DBBD613526BE32778B20, 7BB8BD884D9...   \n",
       "6   [7BB8BD884D95DBBD613526BE32778B20, 7BB8BD884D9...   \n",
       "5   [7BB8BD884D95DBBD613526BE32778B20, 7BB8BD884D9...   \n",
       "3   [7BB8BD884D95DBBD613526BE32778B20, 7BB8BD884D9...   \n",
       "\n",
       "            scannedDevicesMinUTC  \\\n",
       "7  2020-03-25 14:15:04.812595000   \n",
       "12 2020-03-25 14:15:12.818662000   \n",
       "6  2020-03-25 14:15:12.819116800   \n",
       "5  2020-03-25 14:15:23.417185500   \n",
       "3  2020-03-25 15:19:03.342868500   \n",
       "\n",
       "                                       scannedDevices  \\\n",
       "7   [{'scannedDeviceRangingData': -15, 'scannedDev...   \n",
       "12  [{'scannedDeviceRangingData': -15, 'scannedDev...   \n",
       "6   [{'scannedDeviceRangingData': -15, 'scannedDev...   \n",
       "5   [{'scannedDeviceRangingData': -15, 'scannedDev...   \n",
       "3   [{'rssi': -83, 'scannedDeviceRangingData': -15...   \n",
       "\n",
       "            scannedDevicesMaxUTC        scanningDeviceEddystoneUid  \n",
       "7  2020-03-25 15:02:59.009854500  7BB8BD884D95DBBD613588BD06DA4164  \n",
       "12 2020-03-25 15:04:17.381249500  7BB8BD884D95DBBD613588BD06DA4164  \n",
       "6  2020-03-25 15:04:26.782329000  7BB8BD884D95DBBD613588BD06DA4164  \n",
       "5  2020-03-25 15:05:28.128764700  7BB8BD884D95DBBD613588BD06DA4164  \n",
       "3  2020-03-25 15:51:02.361047300  7BB8BD884D95DBBD613588BD06DA4164  "
      ]
     },
     "execution_count": 7,
     "metadata": {},
     "output_type": "execute_result"
    }
   ],
   "source": [
    "url2 = \"https://us-central1-social-protection-46da6.cloudfunctions.net/getDeviceScans?device_id=7BB8BD884D95DBBD613588BD06DA4164\" \n",
    "df2 = url2df(url=url2)\n",
    "df2.tail()"
   ]
  },
  {
   "cell_type": "markdown",
   "metadata": {
    "colab": {},
    "colab_type": "code",
    "id": "s15HWweMHTTJ"
   },
   "source": [
    "## find relevant rows in time"
   ]
  },
  {
   "cell_type": "code",
   "execution_count": 13,
   "metadata": {},
   "outputs": [
    {
     "data": {
      "text/plain": [
       "<matplotlib.axes._subplots.AxesSubplot at 0x2403a84ac40>"
      ]
     },
     "execution_count": 13,
     "metadata": {},
     "output_type": "execute_result"
    },
    {
     "data": {
      "image/png": "[encoded data removed]",
      "text/plain": [
       "<Figure size 432x288 with 1 Axes>"
      ]
     },
     "metadata": {},
     "output_type": "display_data"
    }
   ],
   "source": [
    "rel_time = pd.to_datetime(\"2020-03-25 14:00:00\")\n",
    "sd1 = allScannedDevicesInTime(df1, rel_time, 5)\n",
    "sd2 = allScannedDevicesInTime(df2, rel_time, 5)\n",
    "sd = pd.concat([sd1, sd2], ignore_index=True)\n",
    "sns.lineplot(x=\"timeUTC\", y=\"rssi\", hue=\"scannedDeviceEddystoneUid\", markers=True, data=sd)"
   ]
  }
 ],
 "metadata": {
  "colab": {
   "collapsed_sections": [],
   "name": "bluetooth_read_data.ipynb",
   "provenance": []
  },
  "kernelspec": {
   "display_name": "Python 3",
   "language": "python",
   "name": "python3"
  },
  "language_info": {
   "codemirror_mode": {
    "name": "ipython",
    "version": 3
   },
   "file_extension": ".py",
   "mimetype": "text/x-python",
   "name": "python",
   "nbconvert_exporter": "python",
   "pygments_lexer": "ipython3",
   "version": "3.8.1"
  }
 },
 "nbformat": 4,
 "nbformat_minor": 4
}
