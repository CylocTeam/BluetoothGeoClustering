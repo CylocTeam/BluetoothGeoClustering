{
 "cells": [
  {
   "cell_type": "code",
   "execution_count": 96,
   "metadata": {
    "colab": {},
    "colab_type": "code",
    "id": "1X0YVEfF8X2_"
   },
   "outputs": [],
   "source": [
    "import pandas as pd\n",
    "import seaborn as sns\n",
    "import requests\n",
    "sns.set(style=\"darkgrid\", rc={'figure.figsize':(12,8)})\n"
   ]
  },
  {
   "cell_type": "markdown",
   "metadata": {},
   "source": [
    "## define functions"
   ]
  },
  {
   "cell_type": "code",
   "execution_count": 97,
   "metadata": {
    "colab": {},
    "colab_type": "code",
    "id": "8CoiHvyw8tWn"
   },
   "outputs": [],
   "source": [
    "def url2df(url):\n",
    "    f = requests.get(url)\n",
    "    df_raw = pd.read_json(f.text)\n",
    "    df_raw.scannedDevicesMinTimestamp= pd.to_datetime(df_raw.scannedDevicesMinTimestamp)\n",
    "    df_raw.scannedDevicesMaxTimestamp= pd.to_datetime(df_raw.scannedDevicesMaxTimestamp)\n",
    "    df_raw = df_raw.rename(columns={'scannedDevicesMinTimestamp': 'scannedDevicesMinUTC',\n",
    "                    'scannedDevicesMaxTimestamp': 'scannedDevicesMaxUTC'})\n",
    "    df_raw = df_raw.sort_values(\"scannedDevicesMaxUTC\") # sorting by last time!\n",
    "    return df_raw"
   ]
  },
  {
   "cell_type": "code",
   "execution_count": 179,
   "metadata": {
    "colab": {},
    "colab_type": "code",
    "id": "_AYPDCoODiC8"
   },
   "outputs": [],
   "source": [
    "def scannedDevices2df(scannedDevices):\n",
    "    df_sd = pd.json_normalize(scannedDevices)\n",
    "    if df_sd.empty:\n",
    "#         print('No scans avaliable')\n",
    "        return df_sd\n",
    "    df_sd = df_sd.rename(columns={'timestamp': 'timeUTC'})\n",
    "    df_sd.timeUTC= pd.to_datetime(df_sd.timeUTC)\n",
    "    df_sd = df_sd.sort_values(\"timeUTC\")\n",
    "    return df_sd"
   ]
  },
  {
   "cell_type": "code",
   "execution_count": 193,
   "metadata": {},
   "outputs": [],
   "source": [
    "def allScannedDevicesInTime(df, rel_time, window_size_minutes=0):\n",
    "# rel_time = pd.to_datetime(\"2020-03-25 13:00:00\")\n",
    "    sd = pd.DataFrame()\n",
    "    id_suffix = df.scanningDeviceEddystoneUid[0][-6:]\n",
    "    time_window = pd.offsets.Minute(window_size_minutes)\n",
    "    mask = (df.scannedDevicesMinUTC <= rel_time+time_window) & (df.scannedDevicesMaxUTC >= rel_time-time_window)\n",
    "    if not any(mask):\n",
    "        print('No date at this time from: ...' + id_suffix)\n",
    "        return sd\n",
    "    for row in df[mask].index:\n",
    "        sd_new = scannedDevices2df(df.scannedDevices[row])\n",
    "        if sd_new.empty:\n",
    "            print('No scans avaliable from: ...' + id_suffix)\n",
    "            continue\n",
    "        sd = pd.concat([sd, sd_new], ignore_index=True)\n",
    "    return sd"
   ]
  },
  {
   "cell_type": "markdown",
   "metadata": {},
   "source": [
    "## access raw data"
   ]
  },
  {
   "cell_type": "markdown",
   "metadata": {},
   "source": [
    "#### Jonatan's Pocophone"
   ]
  },
  {
   "cell_type": "code",
   "execution_count": 146,
   "metadata": {
    "colab": {
     "base_uri": "https://localhost:8080/",
     "height": 279
    },
    "colab_type": "code",
    "id": "kNTc0pNr8lrQ",
    "outputId": "f0bc8c1f-d1fe-4968-dfcb-9cf4f418c564"
   },
   "outputs": [
    {
     "data": {
      "text/html": [
       "<div>\n",
       "<style scoped>\n",
       "    .dataframe tbody tr th:only-of-type {\n",
       "        vertical-align: middle;\n",
       "    }\n",
       "\n",
       "    .dataframe tbody tr th {\n",
       "        vertical-align: top;\n",
       "    }\n",
       "\n",
       "    .dataframe thead th {\n",
       "        text-align: right;\n",
       "    }\n",
       "</style>\n",
       "<table border=\"1\" class=\"dataframe\">\n",
       "  <thead>\n",
       "    <tr style=\"text-align: right;\">\n",
       "      <th></th>\n",
       "      <th>scannedDevicesMinUTC</th>\n",
       "      <th>scannedDevices</th>\n",
       "      <th>scannedDevicesMaxUTC</th>\n",
       "      <th>scanningDeviceEddystoneUid</th>\n",
       "      <th>device_seen_set</th>\n",
       "    </tr>\n",
       "  </thead>\n",
       "  <tbody>\n",
       "    <tr>\n",
       "      <th>71</th>\n",
       "      <td>2020-03-26 10:24:15.633697800</td>\n",
       "      <td>[{'rssi': -87, 'scannedDeviceRangingData': -15...</td>\n",
       "      <td>2020-03-26 10:24:59.749149200</td>\n",
       "      <td>7BB8BD884D95DBBD613526BE32778B20</td>\n",
       "      <td>[7BB8BD884D95DBBD613588BD06DA4164, 7BB8BD884D9...</td>\n",
       "    </tr>\n",
       "    <tr>\n",
       "      <th>48</th>\n",
       "      <td>2020-03-26 10:24:53.168140300</td>\n",
       "      <td>[{'timestamp': 1585218293168140300, 'rssi': -9...</td>\n",
       "      <td>2020-03-26 10:27:13.921507800</td>\n",
       "      <td>7BB8BD884D95DBBD613526BE32778B20</td>\n",
       "      <td>[7BB8BD884D95DBBD613588BD06DA4164, 7BB8BD884D9...</td>\n",
       "    </tr>\n",
       "    <tr>\n",
       "      <th>129</th>\n",
       "      <td>2020-03-26 10:24:15.632797700</td>\n",
       "      <td>[{'scannedDeviceRangingData': -15, 'scannedDev...</td>\n",
       "      <td>2020-03-26 10:27:13.922391600</td>\n",
       "      <td>7BB8BD884D95DBBD613526BE32778B20</td>\n",
       "      <td>[7BB8BD884D95DBBD613588BD06DA4164, 7BB8BD884D9...</td>\n",
       "    </tr>\n",
       "    <tr>\n",
       "      <th>141</th>\n",
       "      <td>2020-03-26 10:25:58.228284200</td>\n",
       "      <td>[{'timestamp': 1585218358228284200, 'rssi': -8...</td>\n",
       "      <td>2020-03-26 10:27:13.923541500</td>\n",
       "      <td>7BB8BD884D95DBBD613526BE32778B20</td>\n",
       "      <td>[7BB8BD884D95DBBD613588BD06DA4164, 7BB8BD884D9...</td>\n",
       "    </tr>\n",
       "    <tr>\n",
       "      <th>46</th>\n",
       "      <td>2020-03-26 10:30:43.143433200</td>\n",
       "      <td>[{'timestamp': 1585218643143433200, 'rssi': -9...</td>\n",
       "      <td>2020-03-26 10:31:43.625695200</td>\n",
       "      <td>7BB8BD884D95DBBD613526BE32778B20</td>\n",
       "      <td>[7BB8BD884D95DBBD613588BD06DA4164, 7BB8BD884D9...</td>\n",
       "    </tr>\n",
       "  </tbody>\n",
       "</table>\n",
       "</div>"
      ],
      "text/plain": [
       "             scannedDevicesMinUTC  \\\n",
       "71  2020-03-26 10:24:15.633697800   \n",
       "48  2020-03-26 10:24:53.168140300   \n",
       "129 2020-03-26 10:24:15.632797700   \n",
       "141 2020-03-26 10:25:58.228284200   \n",
       "46  2020-03-26 10:30:43.143433200   \n",
       "\n",
       "                                        scannedDevices  \\\n",
       "71   [{'rssi': -87, 'scannedDeviceRangingData': -15...   \n",
       "48   [{'timestamp': 1585218293168140300, 'rssi': -9...   \n",
       "129  [{'scannedDeviceRangingData': -15, 'scannedDev...   \n",
       "141  [{'timestamp': 1585218358228284200, 'rssi': -8...   \n",
       "46   [{'timestamp': 1585218643143433200, 'rssi': -9...   \n",
       "\n",
       "             scannedDevicesMaxUTC        scanningDeviceEddystoneUid  \\\n",
       "71  2020-03-26 10:24:59.749149200  7BB8BD884D95DBBD613526BE32778B20   \n",
       "48  2020-03-26 10:27:13.921507800  7BB8BD884D95DBBD613526BE32778B20   \n",
       "129 2020-03-26 10:27:13.922391600  7BB8BD884D95DBBD613526BE32778B20   \n",
       "141 2020-03-26 10:27:13.923541500  7BB8BD884D95DBBD613526BE32778B20   \n",
       "46  2020-03-26 10:31:43.625695200  7BB8BD884D95DBBD613526BE32778B20   \n",
       "\n",
       "                                       device_seen_set  \n",
       "71   [7BB8BD884D95DBBD613588BD06DA4164, 7BB8BD884D9...  \n",
       "48   [7BB8BD884D95DBBD613588BD06DA4164, 7BB8BD884D9...  \n",
       "129  [7BB8BD884D95DBBD613588BD06DA4164, 7BB8BD884D9...  \n",
       "141  [7BB8BD884D95DBBD613588BD06DA4164, 7BB8BD884D9...  \n",
       "46   [7BB8BD884D95DBBD613588BD06DA4164, 7BB8BD884D9...  "
      ]
     },
     "execution_count": 146,
     "metadata": {},
     "output_type": "execute_result"
    }
   ],
   "source": [
    "url1 = \"https://us-central1-social-protection-46da6.cloudfunctions.net/getDeviceScans?device_id=7BB8BD884D95DBBD613526BE32778B20\"\n",
    "df1 = url2df(url=url1)\n",
    "df1.tail()"
   ]
  },
  {
   "cell_type": "markdown",
   "metadata": {},
   "source": [
    "#### Dor's OnePlus6"
   ]
  },
  {
   "cell_type": "code",
   "execution_count": 147,
   "metadata": {
    "colab": {
     "base_uri": "https://localhost:8080/",
     "height": 279
    },
    "colab_type": "code",
    "id": "_EdWcm-g_VOf",
    "outputId": "2b533aa1-6b29-425f-8915-d6ba801584d4"
   },
   "outputs": [
    {
     "data": {
      "text/html": [
       "<div>\n",
       "<style scoped>\n",
       "    .dataframe tbody tr th:only-of-type {\n",
       "        vertical-align: middle;\n",
       "    }\n",
       "\n",
       "    .dataframe tbody tr th {\n",
       "        vertical-align: top;\n",
       "    }\n",
       "\n",
       "    .dataframe thead th {\n",
       "        text-align: right;\n",
       "    }\n",
       "</style>\n",
       "<table border=\"1\" class=\"dataframe\">\n",
       "  <thead>\n",
       "    <tr style=\"text-align: right;\">\n",
       "      <th></th>\n",
       "      <th>device_seen_set</th>\n",
       "      <th>scannedDevicesMinUTC</th>\n",
       "      <th>scannedDevices</th>\n",
       "      <th>scannedDevicesMaxUTC</th>\n",
       "      <th>scanningDeviceEddystoneUid</th>\n",
       "    </tr>\n",
       "  </thead>\n",
       "  <tbody>\n",
       "    <tr>\n",
       "      <th>64</th>\n",
       "      <td>[7BB8BD884D95DBBD613588BD06DA4164]</td>\n",
       "      <td>2020-03-26 10:45:39.840</td>\n",
       "      <td>[]</td>\n",
       "      <td>2020-03-26 10:45:39.840</td>\n",
       "      <td>7BB8BD884D95DBBD613588BD06DA4164</td>\n",
       "    </tr>\n",
       "    <tr>\n",
       "      <th>57</th>\n",
       "      <td>[7BB8BD884D95DBBD613588BD06DA4164]</td>\n",
       "      <td>2020-03-26 10:50:39.840</td>\n",
       "      <td>[]</td>\n",
       "      <td>2020-03-26 10:50:39.840</td>\n",
       "      <td>7BB8BD884D95DBBD613588BD06DA4164</td>\n",
       "    </tr>\n",
       "    <tr>\n",
       "      <th>66</th>\n",
       "      <td>[7BB8BD884D95DBBD613588BD06DA4164]</td>\n",
       "      <td>2020-03-26 10:55:39.840</td>\n",
       "      <td>[]</td>\n",
       "      <td>2020-03-26 10:55:39.840</td>\n",
       "      <td>7BB8BD884D95DBBD613588BD06DA4164</td>\n",
       "    </tr>\n",
       "    <tr>\n",
       "      <th>58</th>\n",
       "      <td>[7BB8BD884D95DBBD613588BD06DA4164]</td>\n",
       "      <td>2020-03-26 11:00:39.840</td>\n",
       "      <td>[]</td>\n",
       "      <td>2020-03-26 11:00:39.840</td>\n",
       "      <td>7BB8BD884D95DBBD613588BD06DA4164</td>\n",
       "    </tr>\n",
       "    <tr>\n",
       "      <th>40</th>\n",
       "      <td>[7BB8BD884D95DBBD613588BD06DA4164]</td>\n",
       "      <td>2020-03-26 11:05:39.840</td>\n",
       "      <td>[]</td>\n",
       "      <td>2020-03-26 11:05:39.840</td>\n",
       "      <td>7BB8BD884D95DBBD613588BD06DA4164</td>\n",
       "    </tr>\n",
       "  </tbody>\n",
       "</table>\n",
       "</div>"
      ],
      "text/plain": [
       "                       device_seen_set    scannedDevicesMinUTC scannedDevices  \\\n",
       "64  [7BB8BD884D95DBBD613588BD06DA4164] 2020-03-26 10:45:39.840             []   \n",
       "57  [7BB8BD884D95DBBD613588BD06DA4164] 2020-03-26 10:50:39.840             []   \n",
       "66  [7BB8BD884D95DBBD613588BD06DA4164] 2020-03-26 10:55:39.840             []   \n",
       "58  [7BB8BD884D95DBBD613588BD06DA4164] 2020-03-26 11:00:39.840             []   \n",
       "40  [7BB8BD884D95DBBD613588BD06DA4164] 2020-03-26 11:05:39.840             []   \n",
       "\n",
       "      scannedDevicesMaxUTC        scanningDeviceEddystoneUid  \n",
       "64 2020-03-26 10:45:39.840  7BB8BD884D95DBBD613588BD06DA4164  \n",
       "57 2020-03-26 10:50:39.840  7BB8BD884D95DBBD613588BD06DA4164  \n",
       "66 2020-03-26 10:55:39.840  7BB8BD884D95DBBD613588BD06DA4164  \n",
       "58 2020-03-26 11:00:39.840  7BB8BD884D95DBBD613588BD06DA4164  \n",
       "40 2020-03-26 11:05:39.840  7BB8BD884D95DBBD613588BD06DA4164  "
      ]
     },
     "execution_count": 147,
     "metadata": {},
     "output_type": "execute_result"
    }
   ],
   "source": [
    "url2 = \"https://us-central1-social-protection-46da6.cloudfunctions.net/getDeviceScans?device_id=7BB8BD884D95DBBD613588BD06DA4164\" \n",
    "df2 = url2df(url=url2)\n",
    "df2.tail()"
   ]
  },
  {
   "cell_type": "markdown",
   "metadata": {
    "colab": {},
    "colab_type": "code",
    "id": "s15HWweMHTTJ"
   },
   "source": [
    "## find relevant rows in time"
   ]
  },
  {
   "cell_type": "code",
   "execution_count": 197,
   "metadata": {},
   "outputs": [
    {
     "name": "stdout",
     "output_type": "stream",
     "text": [
      "No date at this time from: ...778B20\n",
      "No date at this time from: ...DA4164\n"
     ]
    }
   ],
   "source": [
    "rel_time = pd.to_datetime(\"2020-03-25 18:00:00\")\n",
    "sd1 = allScannedDevicesInTime(df1, rel_time, 30)\n",
    "sd2 = allScannedDevicesInTime(df2, rel_time, 30)\n",
    "sd = pd.concat([sd1, sd2], ignore_index=True)\n",
    "if not sd.empty:\n",
    "    sns.lineplot(x=\"timeUTC\", y=\"rssi\", hue=\"scannedDeviceEddystoneUid\", data=sd, markers=True)\n"
   ]
  }
 ],
 "metadata": {
  "colab": {
   "collapsed_sections": [],
   "name": "bluetooth_read_data.ipynb",
   "provenance": []
  },
  "kernelspec": {
   "display_name": "Python 3",
   "language": "python",
   "name": "python3"
  },
  "language_info": {
   "codemirror_mode": {
    "name": "ipython",
    "version": 3
   },
   "file_extension": ".py",
   "mimetype": "text/x-python",
   "name": "python",
   "nbconvert_exporter": "python",
   "pygments_lexer": "ipython3",
   "version": "3.8.1"
  }
 },
 "nbformat": 4,
 "nbformat_minor": 4
}
